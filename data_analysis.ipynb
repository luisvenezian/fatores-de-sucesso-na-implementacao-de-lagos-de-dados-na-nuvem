{
 "cells": [
  {
   "cell_type": "code",
   "execution_count": 166,
   "id": "53c428ef-0d34-4050-953c-037de29fe72b",
   "metadata": {},
   "outputs": [],
   "source": [
    "import pandas as pd"
   ]
  },
  {
   "cell_type": "code",
   "execution_count": 167,
   "id": "fc3c6fcd-55cd-4f0e-9cc0-a4ec26d58780",
   "metadata": {},
   "outputs": [],
   "source": [
    "df = pd.read_csv(\"dataset/refined.tsv\", sep=\"\\t\")"
   ]
  },
  {
   "cell_type": "code",
   "execution_count": 168,
   "id": "5893959f-a1c6-41d6-a37e-eded53ca7bf7",
   "metadata": {},
   "outputs": [
    {
     "data": {
      "text/html": [
       "<div>\n",
       "<style scoped>\n",
       "    .dataframe tbody tr th:only-of-type {\n",
       "        vertical-align: middle;\n",
       "    }\n",
       "\n",
       "    .dataframe tbody tr th {\n",
       "        vertical-align: top;\n",
       "    }\n",
       "\n",
       "    .dataframe thead th {\n",
       "        text-align: right;\n",
       "    }\n",
       "</style>\n",
       "<table border=\"1\" class=\"dataframe\">\n",
       "  <thead>\n",
       "    <tr style=\"text-align: right;\">\n",
       "      <th></th>\n",
       "      <th>atua_como</th>\n",
       "      <th>bool_cert</th>\n",
       "      <th>provedor</th>\n",
       "      <th>maior_desafio</th>\n",
       "      <th>tam_equipe</th>\n",
       "      <th>avaliacao</th>\n",
       "      <th>porte</th>\n",
       "      <th>tam_investimento</th>\n",
       "      <th>posicao</th>\n",
       "      <th>segmentacao</th>\n",
       "      <th>...</th>\n",
       "      <th>bool_alt_custo</th>\n",
       "      <th>bool_alt_tec</th>\n",
       "      <th>bool_falha_gov</th>\n",
       "      <th>bool_falha_dev</th>\n",
       "      <th>bool_falha_aus_info</th>\n",
       "      <th>bool_falha_pln_custo</th>\n",
       "      <th>bool_falha_gst_lid</th>\n",
       "      <th>bool_falha_usu</th>\n",
       "      <th>qt_alteracoes</th>\n",
       "      <th>qt_falhas</th>\n",
       "    </tr>\n",
       "  </thead>\n",
       "  <tbody>\n",
       "    <tr>\n",
       "      <th>0</th>\n",
       "      <td>Terceiro</td>\n",
       "      <td>1</td>\n",
       "      <td>AWS</td>\n",
       "      <td>Variedade</td>\n",
       "      <td>[0,5]</td>\n",
       "      <td>5</td>\n",
       "      <td>]500,+∞]</td>\n",
       "      <td>[0,10]</td>\n",
       "      <td>Dev</td>\n",
       "      <td>B2B</td>\n",
       "      <td>...</td>\n",
       "      <td>0</td>\n",
       "      <td>0</td>\n",
       "      <td>0</td>\n",
       "      <td>0</td>\n",
       "      <td>0</td>\n",
       "      <td>0</td>\n",
       "      <td>0</td>\n",
       "      <td>0</td>\n",
       "      <td>2</td>\n",
       "      <td>0</td>\n",
       "    </tr>\n",
       "    <tr>\n",
       "      <th>1</th>\n",
       "      <td>Terceiro</td>\n",
       "      <td>1</td>\n",
       "      <td>AWS</td>\n",
       "      <td>Velocidade</td>\n",
       "      <td>]10,20]</td>\n",
       "      <td>4</td>\n",
       "      <td>]100,500]</td>\n",
       "      <td>NaN</td>\n",
       "      <td>Gestão</td>\n",
       "      <td>B2B</td>\n",
       "      <td>...</td>\n",
       "      <td>0</td>\n",
       "      <td>0</td>\n",
       "      <td>0</td>\n",
       "      <td>1</td>\n",
       "      <td>0</td>\n",
       "      <td>1</td>\n",
       "      <td>0</td>\n",
       "      <td>0</td>\n",
       "      <td>0</td>\n",
       "      <td>2</td>\n",
       "    </tr>\n",
       "    <tr>\n",
       "      <th>2</th>\n",
       "      <td>Interno</td>\n",
       "      <td>1</td>\n",
       "      <td>Azure</td>\n",
       "      <td>Variedade</td>\n",
       "      <td>]10,20]</td>\n",
       "      <td>3</td>\n",
       "      <td>]20,50]</td>\n",
       "      <td>]20,30]</td>\n",
       "      <td>Dev</td>\n",
       "      <td>B2ALL</td>\n",
       "      <td>...</td>\n",
       "      <td>1</td>\n",
       "      <td>0</td>\n",
       "      <td>1</td>\n",
       "      <td>0</td>\n",
       "      <td>0</td>\n",
       "      <td>1</td>\n",
       "      <td>1</td>\n",
       "      <td>0</td>\n",
       "      <td>2</td>\n",
       "      <td>3</td>\n",
       "    </tr>\n",
       "    <tr>\n",
       "      <th>3</th>\n",
       "      <td>Terceiro</td>\n",
       "      <td>0</td>\n",
       "      <td>AWS</td>\n",
       "      <td>Volume</td>\n",
       "      <td>]5,10]</td>\n",
       "      <td>5</td>\n",
       "      <td>[0,20]</td>\n",
       "      <td>]10,20]</td>\n",
       "      <td>Dev</td>\n",
       "      <td>B2B</td>\n",
       "      <td>...</td>\n",
       "      <td>0</td>\n",
       "      <td>1</td>\n",
       "      <td>0</td>\n",
       "      <td>0</td>\n",
       "      <td>0</td>\n",
       "      <td>0</td>\n",
       "      <td>0</td>\n",
       "      <td>0</td>\n",
       "      <td>2</td>\n",
       "      <td>0</td>\n",
       "    </tr>\n",
       "    <tr>\n",
       "      <th>4</th>\n",
       "      <td>Interno</td>\n",
       "      <td>1</td>\n",
       "      <td>Azure</td>\n",
       "      <td>Velocidade</td>\n",
       "      <td>[0,5]</td>\n",
       "      <td>4</td>\n",
       "      <td>]100,500]</td>\n",
       "      <td>]50,100]</td>\n",
       "      <td>Gestão</td>\n",
       "      <td>B2B</td>\n",
       "      <td>...</td>\n",
       "      <td>0</td>\n",
       "      <td>0</td>\n",
       "      <td>0</td>\n",
       "      <td>0</td>\n",
       "      <td>0</td>\n",
       "      <td>0</td>\n",
       "      <td>0</td>\n",
       "      <td>0</td>\n",
       "      <td>0</td>\n",
       "      <td>0</td>\n",
       "    </tr>\n",
       "    <tr>\n",
       "      <th>...</th>\n",
       "      <td>...</td>\n",
       "      <td>...</td>\n",
       "      <td>...</td>\n",
       "      <td>...</td>\n",
       "      <td>...</td>\n",
       "      <td>...</td>\n",
       "      <td>...</td>\n",
       "      <td>...</td>\n",
       "      <td>...</td>\n",
       "      <td>...</td>\n",
       "      <td>...</td>\n",
       "      <td>...</td>\n",
       "      <td>...</td>\n",
       "      <td>...</td>\n",
       "      <td>...</td>\n",
       "      <td>...</td>\n",
       "      <td>...</td>\n",
       "      <td>...</td>\n",
       "      <td>...</td>\n",
       "      <td>...</td>\n",
       "      <td>...</td>\n",
       "    </tr>\n",
       "    <tr>\n",
       "      <th>97</th>\n",
       "      <td>Interno</td>\n",
       "      <td>1</td>\n",
       "      <td>GCP</td>\n",
       "      <td>Variedade</td>\n",
       "      <td>]35,+∞]</td>\n",
       "      <td>4</td>\n",
       "      <td>]500,+∞]</td>\n",
       "      <td>]50,100]</td>\n",
       "      <td>Gestão</td>\n",
       "      <td>B2ALL</td>\n",
       "      <td>...</td>\n",
       "      <td>1</td>\n",
       "      <td>1</td>\n",
       "      <td>0</td>\n",
       "      <td>0</td>\n",
       "      <td>0</td>\n",
       "      <td>1</td>\n",
       "      <td>0</td>\n",
       "      <td>1</td>\n",
       "      <td>3</td>\n",
       "      <td>2</td>\n",
       "    </tr>\n",
       "    <tr>\n",
       "      <th>98</th>\n",
       "      <td>Terceiro</td>\n",
       "      <td>0</td>\n",
       "      <td>AWS</td>\n",
       "      <td>Volume</td>\n",
       "      <td>]10,20]</td>\n",
       "      <td>4</td>\n",
       "      <td>]500,+∞]</td>\n",
       "      <td>]100,+∞]</td>\n",
       "      <td>Dev</td>\n",
       "      <td>B2B</td>\n",
       "      <td>...</td>\n",
       "      <td>0</td>\n",
       "      <td>0</td>\n",
       "      <td>0</td>\n",
       "      <td>0</td>\n",
       "      <td>0</td>\n",
       "      <td>0</td>\n",
       "      <td>0</td>\n",
       "      <td>0</td>\n",
       "      <td>0</td>\n",
       "      <td>0</td>\n",
       "    </tr>\n",
       "    <tr>\n",
       "      <th>99</th>\n",
       "      <td>Interno</td>\n",
       "      <td>1</td>\n",
       "      <td>AWS</td>\n",
       "      <td>Velocidade</td>\n",
       "      <td>]5,10]</td>\n",
       "      <td>5</td>\n",
       "      <td>]500,+∞]</td>\n",
       "      <td>]100,+∞]</td>\n",
       "      <td>Gestão</td>\n",
       "      <td>B2ALL</td>\n",
       "      <td>...</td>\n",
       "      <td>0</td>\n",
       "      <td>1</td>\n",
       "      <td>0</td>\n",
       "      <td>0</td>\n",
       "      <td>0</td>\n",
       "      <td>0</td>\n",
       "      <td>0</td>\n",
       "      <td>0</td>\n",
       "      <td>1</td>\n",
       "      <td>0</td>\n",
       "    </tr>\n",
       "    <tr>\n",
       "      <th>100</th>\n",
       "      <td>Interno</td>\n",
       "      <td>1</td>\n",
       "      <td>AWS</td>\n",
       "      <td>Velocidade</td>\n",
       "      <td>]5,10]</td>\n",
       "      <td>3</td>\n",
       "      <td>]100,500]</td>\n",
       "      <td>]100,+∞]</td>\n",
       "      <td>Dev</td>\n",
       "      <td>B2B</td>\n",
       "      <td>...</td>\n",
       "      <td>0</td>\n",
       "      <td>1</td>\n",
       "      <td>0</td>\n",
       "      <td>1</td>\n",
       "      <td>0</td>\n",
       "      <td>0</td>\n",
       "      <td>0</td>\n",
       "      <td>0</td>\n",
       "      <td>1</td>\n",
       "      <td>1</td>\n",
       "    </tr>\n",
       "    <tr>\n",
       "      <th>101</th>\n",
       "      <td>Interno</td>\n",
       "      <td>0</td>\n",
       "      <td>AWS</td>\n",
       "      <td>Volume</td>\n",
       "      <td>]35,+∞]</td>\n",
       "      <td>4</td>\n",
       "      <td>]500,+∞]</td>\n",
       "      <td>]100,+∞]</td>\n",
       "      <td>Dev</td>\n",
       "      <td>B2ALL</td>\n",
       "      <td>...</td>\n",
       "      <td>1</td>\n",
       "      <td>0</td>\n",
       "      <td>1</td>\n",
       "      <td>0</td>\n",
       "      <td>0</td>\n",
       "      <td>1</td>\n",
       "      <td>1</td>\n",
       "      <td>0</td>\n",
       "      <td>1</td>\n",
       "      <td>3</td>\n",
       "    </tr>\n",
       "  </tbody>\n",
       "</table>\n",
       "<p>102 rows × 34 columns</p>\n",
       "</div>"
      ],
      "text/plain": [
       "    atua_como  bool_cert provedor maior_desafio tam_equipe  avaliacao  \\\n",
       "0    Terceiro          1      AWS     Variedade      [0,5]          5   \n",
       "1    Terceiro          1      AWS    Velocidade    ]10,20]          4   \n",
       "2     Interno          1    Azure     Variedade    ]10,20]          3   \n",
       "3    Terceiro          0      AWS        Volume     ]5,10]          5   \n",
       "4     Interno          1    Azure    Velocidade      [0,5]          4   \n",
       "..        ...        ...      ...           ...        ...        ...   \n",
       "97    Interno          1      GCP     Variedade    ]35,+∞]          4   \n",
       "98   Terceiro          0      AWS        Volume    ]10,20]          4   \n",
       "99    Interno          1      AWS    Velocidade     ]5,10]          5   \n",
       "100   Interno          1      AWS    Velocidade     ]5,10]          3   \n",
       "101   Interno          0      AWS        Volume    ]35,+∞]          4   \n",
       "\n",
       "         porte tam_investimento posicao segmentacao  ...  bool_alt_custo  \\\n",
       "0     ]500,+∞]           [0,10]     Dev         B2B  ...               0   \n",
       "1    ]100,500]              NaN  Gestão         B2B  ...               0   \n",
       "2      ]20,50]          ]20,30]     Dev       B2ALL  ...               1   \n",
       "3       [0,20]          ]10,20]     Dev         B2B  ...               0   \n",
       "4    ]100,500]         ]50,100]  Gestão         B2B  ...               0   \n",
       "..         ...              ...     ...         ...  ...             ...   \n",
       "97    ]500,+∞]         ]50,100]  Gestão       B2ALL  ...               1   \n",
       "98    ]500,+∞]         ]100,+∞]     Dev         B2B  ...               0   \n",
       "99    ]500,+∞]         ]100,+∞]  Gestão       B2ALL  ...               0   \n",
       "100  ]100,500]         ]100,+∞]     Dev         B2B  ...               0   \n",
       "101   ]500,+∞]         ]100,+∞]     Dev       B2ALL  ...               1   \n",
       "\n",
       "    bool_alt_tec  bool_falha_gov  bool_falha_dev  bool_falha_aus_info  \\\n",
       "0              0               0               0                    0   \n",
       "1              0               0               1                    0   \n",
       "2              0               1               0                    0   \n",
       "3              1               0               0                    0   \n",
       "4              0               0               0                    0   \n",
       "..           ...             ...             ...                  ...   \n",
       "97             1               0               0                    0   \n",
       "98             0               0               0                    0   \n",
       "99             1               0               0                    0   \n",
       "100            1               0               1                    0   \n",
       "101            0               1               0                    0   \n",
       "\n",
       "     bool_falha_pln_custo  bool_falha_gst_lid  bool_falha_usu  qt_alteracoes  \\\n",
       "0                       0                   0               0              2   \n",
       "1                       1                   0               0              0   \n",
       "2                       1                   1               0              2   \n",
       "3                       0                   0               0              2   \n",
       "4                       0                   0               0              0   \n",
       "..                    ...                 ...             ...            ...   \n",
       "97                      1                   0               1              3   \n",
       "98                      0                   0               0              0   \n",
       "99                      0                   0               0              1   \n",
       "100                     0                   0               0              1   \n",
       "101                     1                   1               0              1   \n",
       "\n",
       "     qt_falhas  \n",
       "0            0  \n",
       "1            2  \n",
       "2            3  \n",
       "3            0  \n",
       "4            0  \n",
       "..         ...  \n",
       "97           2  \n",
       "98           0  \n",
       "99           0  \n",
       "100          1  \n",
       "101          3  \n",
       "\n",
       "[102 rows x 34 columns]"
      ]
     },
     "execution_count": 168,
     "metadata": {},
     "output_type": "execute_result"
    }
   ],
   "source": [
    "df"
   ]
  },
  {
   "cell_type": "code",
   "execution_count": 169,
   "id": "27c4a4fa-7ad6-4f59-a486-7886baf6631f",
   "metadata": {},
   "outputs": [],
   "source": [
    "import seaborn as sns\n",
    "import matplotlib.pyplot as plt\n",
    "sns.set_theme(style=\"ticks\", color_codes=True)"
   ]
  },
  {
   "cell_type": "code",
   "execution_count": 170,
   "id": "70d18780-640a-4b69-887d-014745a05a15",
   "metadata": {},
   "outputs": [
    {
     "data": {
      "text/plain": [
       "<seaborn.axisgrid.FacetGrid at 0x280fb06a0>"
      ]
     },
     "execution_count": 170,
     "metadata": {},
     "output_type": "execute_result"
    },
    {
     "data": {
      "image/png": "[encoded data removed]",
      "text/plain": [
       "<Figure size 1138.05x432 with 2 Axes>"
      ]
     },
     "metadata": {},
     "output_type": "display_data"
    }
   ],
   "source": [
    "g = sns.catplot(x=\"tam_equipe\", y=\"avaliacao\", hue=\"bool_cert\", col=\"posicao\",\n",
    "                capsize=.2, palette=\"YlGnBu_d\", height=6, aspect=1.25,\n",
    "                kind=\"point\", data=df)\n",
    "g.despine(left=True)"
   ]
  },
  {
   "cell_type": "code",
   "execution_count": 171,
   "id": "5da62c84-7652-4c47-9b78-a8d646479642",
   "metadata": {},
   "outputs": [
    {
     "data": {
      "text/plain": [
       "<seaborn.axisgrid.FacetGrid at 0x280f90e50>"
      ]
     },
     "execution_count": 171,
     "metadata": {},
     "output_type": "execute_result"
    },
    {
     "data": {
      "image/png": "[encoded data removed]",
      "text/plain": [
       "<Figure size 1138.05x432 with 2 Axes>"
      ]
     },
     "metadata": {},
     "output_type": "display_data"
    }
   ],
   "source": [
    "g = sns.catplot(x=\"tam_equipe\", y=\"qt_falhas\", hue=\"bool_cert\", col=\"posicao\",\n",
    "                capsize=.2, palette=\"YlGnBu_d\", height=6, aspect=1.25,\n",
    "                kind=\"point\", data=df)\n",
    "g.despine(left=True)"
   ]
  },
  {
   "cell_type": "code",
   "execution_count": 172,
   "id": "83645f71-8bdb-484f-86db-4576cdee9809",
   "metadata": {},
   "outputs": [
    {
     "data": {
      "image/png": "[encoded data removed]",
      "text/plain": [
       "<Figure size 432x288 with 1 Axes>"
      ]
     },
     "metadata": {},
     "output_type": "display_data"
    }
   ],
   "source": [
    "g = sns.boxplot(x=\"bool_cert\", y=\"qt_falhas\", palette=\"YlGnBu_d\", data=df)"
   ]
  },
  {
   "cell_type": "code",
   "execution_count": 173,
   "id": "b5e5f4e9-8d95-491e-90a0-afaac1a6351d",
   "metadata": {},
   "outputs": [
    {
     "data": {
      "image/png": "[encoded data removed]",
      "text/plain": [
       "<Figure size 432x288 with 1 Axes>"
      ]
     },
     "metadata": {},
     "output_type": "display_data"
    }
   ],
   "source": [
    "g = sns.boxplot(x=\"bool_cert\", y=\"qt_alteracoes\", palette=\"YlGnBu_d\", data=df)"
   ]
  },
  {
   "cell_type": "code",
   "execution_count": 174,
   "id": "1d5447b4-de7a-4e23-bea5-f5ef8b236b28",
   "metadata": {},
   "outputs": [
    {
     "data": {
      "image/png": "[encoded data removed]",
      "text/plain": [
       "<Figure size 432x288 with 1 Axes>"
      ]
     },
     "metadata": {},
     "output_type": "display_data"
    }
   ],
   "source": [
    "g = sns.boxplot(x=\"bool_cert\", y=\"avaliacao\", palette=\"YlGnBu_d\", data=df)"
   ]
  },
  {
   "cell_type": "code",
   "execution_count": 175,
   "id": "3feb1640-7219-43a2-96f3-dabb4378f689",
   "metadata": {},
   "outputs": [
    {
     "data": {
      "image/png": "[encoded data removed]",
      "text/plain": [
       "<Figure size 432x288 with 1 Axes>"
      ]
     },
     "metadata": {},
     "output_type": "display_data"
    }
   ],
   "source": [
    "g = sns.barplot(x=\"tam_equipe\", y=\"avaliacao\", palette=\"YlGnBu_d\", data=df)"
   ]
  },
  {
   "cell_type": "code",
   "execution_count": 176,
   "id": "da76c755-e7bc-4663-9276-cc953540d516",
   "metadata": {},
   "outputs": [],
   "source": [
    "from scipy import stats"
   ]
  },
  {
   "cell_type": "code",
   "execution_count": 177,
   "id": "e6e29431-50ca-46fc-a1cd-2cf0001b1c24",
   "metadata": {},
   "outputs": [],
   "source": [
    "certificado = list(df.query(\"bool_cert == 1\")[\"avaliacao\"])\n",
    "nao_certificado = list(df.query(\"bool_cert == 0\")[\"avaliacao\"])"
   ]
  },
  {
   "cell_type": "code",
   "execution_count": 178,
   "id": "289bbb72-29b8-43dd-a39a-b467f8ce4eea",
   "metadata": {},
   "outputs": [],
   "source": [
    "t_value,p_value = stats.ttest_ind(certificado,nao_certificado)"
   ]
  },
  {
   "cell_type": "code",
   "execution_count": 179,
   "id": "32f44fdf-4be8-4ea9-8241-f0d7b0a23df4",
   "metadata": {},
   "outputs": [
    {
     "data": {
      "text/plain": [
       "4.426563413593539"
      ]
     },
     "execution_count": 179,
     "metadata": {},
     "output_type": "execute_result"
    }
   ],
   "source": [
    "t_value"
   ]
  },
  {
   "cell_type": "code",
   "execution_count": 180,
   "id": "64ef3cfc-9dc4-4f1c-810c-584d8ba86028",
   "metadata": {},
   "outputs": [
    {
     "data": {
      "text/plain": [
       "2.45e-05"
      ]
     },
     "execution_count": 180,
     "metadata": {},
     "output_type": "execute_result"
    }
   ],
   "source": [
    "round(p_value,7)"
   ]
  },
  {
   "cell_type": "code",
   "execution_count": 181,
   "id": "a6ae47f8-87cb-4c51-8cdf-9fb42bdd0a2b",
   "metadata": {},
   "outputs": [
    {
     "data": {
      "image/png": "[encoded data removed]",
      "text/plain": [
       "<Figure size 432x288 with 1 Axes>"
      ]
     },
     "metadata": {},
     "output_type": "display_data"
    }
   ],
   "source": [
    "# plotting first histogram\n",
    "plt.hist(certificado, label='Certificado', alpha=.7, edgecolor='blue')\n",
    "  \n",
    "# plotting second histogram\n",
    "plt.hist(nao_certificado, label='Não certificado', alpha=0.7, edgecolor='green')\n",
    "plt.legend()\n",
    "  \n",
    "# Showing the plot using plt.show()\n",
    "plt.show()"
   ]
  },
  {
   "cell_type": "code",
   "execution_count": 18,
   "id": "854d18ef-07c2-4f54-9962-aa78fc01a92b",
   "metadata": {},
   "outputs": [],
   "source": [
    "certificado = list(df.query(\"bool_cert == 1\")[\"qt_falhas\"])\n",
    "nao_certificado = list(df.query(\"bool_cert == 0\")[\"qt_falhas\"])"
   ]
  },
  {
   "cell_type": "code",
   "execution_count": 19,
   "id": "feffd213-1ebf-460b-8e7e-21fab1fe9d52",
   "metadata": {},
   "outputs": [],
   "source": [
    "t_value,p_value = stats.ttest_ind(certificado,nao_certificado)"
   ]
  },
  {
   "cell_type": "code",
   "execution_count": 20,
   "id": "61981549-6366-447b-bb5a-3ca74999ca38",
   "metadata": {},
   "outputs": [
    {
     "data": {
      "text/plain": [
       "-3.8645546629183123"
      ]
     },
     "execution_count": 20,
     "metadata": {},
     "output_type": "execute_result"
    }
   ],
   "source": [
    "t_value"
   ]
  },
  {
   "cell_type": "code",
   "execution_count": 21,
   "id": "bafa1721-7a09-4d55-83ba-3543f45ffa6c",
   "metadata": {},
   "outputs": [
    {
     "data": {
      "text/plain": [
       "0.0001979069782280366"
      ]
     },
     "execution_count": 21,
     "metadata": {},
     "output_type": "execute_result"
    }
   ],
   "source": [
    "p_value"
   ]
  },
  {
   "cell_type": "code",
   "execution_count": 22,
   "id": "41295548-36e2-4eb3-aab6-80c14f8c8cd0",
   "metadata": {},
   "outputs": [
    {
     "data": {
      "image/png": "[encoded data removed]",
      "text/plain": [
       "<Figure size 432x288 with 1 Axes>"
      ]
     },
     "metadata": {},
     "output_type": "display_data"
    }
   ],
   "source": [
    "# plotting first histogram\n",
    "plt.hist(certificado, label='Certificado', alpha=.7, edgecolor='blue')\n",
    "  \n",
    "# plotting second histogram\n",
    "plt.hist(nao_certificado, label='Não certificado', alpha=0.7, edgecolor='green')\n",
    "plt.legend()\n",
    "  \n",
    "# Showing the plot using plt.show()\n",
    "plt.show()"
   ]
  },
  {
   "cell_type": "code",
   "execution_count": 23,
   "id": "0f73ced0-d5fe-4622-baf4-9569202462c6",
   "metadata": {},
   "outputs": [],
   "source": [
    "certificado = list(df.query(\"bool_cert == 1\")[\"qt_alteracoes\"])\n",
    "nao_certificado = list(df.query(\"bool_cert == 0\")[\"qt_alteracoes\"])"
   ]
  },
  {
   "cell_type": "code",
   "execution_count": 24,
   "id": "8aca380a-3141-49e4-b691-193159f14023",
   "metadata": {},
   "outputs": [],
   "source": [
    "t_value,p_value = stats.ttest_ind(certificado,nao_certificado)"
   ]
  },
  {
   "cell_type": "code",
   "execution_count": 25,
   "id": "79df94ce-abc4-4326-934d-876748494ed4",
   "metadata": {},
   "outputs": [
    {
     "data": {
      "text/plain": [
       "-1.7567946930826068"
      ]
     },
     "execution_count": 25,
     "metadata": {},
     "output_type": "execute_result"
    }
   ],
   "source": [
    "t_value"
   ]
  },
  {
   "cell_type": "code",
   "execution_count": 26,
   "id": "be4f053f-7091-41cb-8808-b8a73dd5f93b",
   "metadata": {},
   "outputs": [
    {
     "data": {
      "text/plain": [
       "0.08201374171596225"
      ]
     },
     "execution_count": 26,
     "metadata": {},
     "output_type": "execute_result"
    }
   ],
   "source": [
    "p_value"
   ]
  },
  {
   "cell_type": "code",
   "execution_count": 27,
   "id": "6643816e-3df5-4a98-8769-768ff7a6fa89",
   "metadata": {},
   "outputs": [
    {
     "data": {
      "image/png": "[encoded data removed]",
      "text/plain": [
       "<Figure size 432x288 with 1 Axes>"
      ]
     },
     "metadata": {},
     "output_type": "display_data"
    }
   ],
   "source": [
    "g = sns.boxplot(x=\"bool_mtd_classica\", y=\"avaliacao\", palette=\"YlGnBu_d\", data=df)"
   ]
  },
  {
   "cell_type": "code",
   "execution_count": 182,
   "id": "f6d5f427-36bf-474a-83b2-4a7b35950591",
   "metadata": {},
   "outputs": [],
   "source": [
    "# teste jp"
   ]
  },
  {
   "cell_type": "code",
   "execution_count": 183,
   "id": "4df6db45-41b8-4e71-a4f3-e860666f1671",
   "metadata": {},
   "outputs": [],
   "source": [
    "def p_value_from_t_test(column: str, metric_column: str) -> str:\n",
    "    g1 = list(df.query(f\"{column} == 1\")[metric_column])\n",
    "    g2 = list(df.query(f\"{column} == 0\")[metric_column])\n",
    "    return \"{:.8f}\".format(float(stats.ttest_ind(g1,g2)[1])) # p_value"
   ]
  },
  {
   "cell_type": "code",
   "execution_count": 184,
   "id": "049b335f-f48a-4b97-a269-ab489d619a5f",
   "metadata": {},
   "outputs": [],
   "source": [
    "bool_columns = [col for col in df.columns if \"bool\" in col]"
   ]
  },
  {
   "cell_type": "code",
   "execution_count": 185,
   "id": "94bdf04f-09ff-4797-93df-04b8192c5dd9",
   "metadata": {},
   "outputs": [],
   "source": [
    "metrics = [\"avaliacao\", \"qt_falhas\", \"qt_alteracoes\"]"
   ]
  },
  {
   "cell_type": "code",
   "execution_count": 186,
   "id": "9a744721-a5af-4709-910c-e11dab7a1ee1",
   "metadata": {},
   "outputs": [],
   "source": [
    "p_dataset = []\n",
    "\n",
    "for col in bool_columns:\n",
    "    p_dataset.append([col] + [p_value_from_t_test(col, metric) for metric in metrics])"
   ]
  },
  {
   "cell_type": "code",
   "execution_count": null,
   "id": "509d2a06-7023-4d93-812a-21d91e805e24",
   "metadata": {},
   "outputs": [],
   "source": []
  },
  {
   "cell_type": "code",
   "execution_count": 43,
   "id": "b788d66b-0e47-4866-bb61-c0f25aba3a18",
   "metadata": {},
   "outputs": [
    {
     "data": {
      "image/png": "[encoded data removed]",
      "text/plain": [
       "<Figure size 432x288 with 1 Axes>"
      ]
     },
     "metadata": {},
     "output_type": "display_data"
    }
   ],
   "source": [
    "g = sns.boxplot(x=\"bool_falha_gst_lid\", y=\"avaliacao\", palette=\"YlGnBu_d\", data=df)"
   ]
  },
  {
   "cell_type": "code",
   "execution_count": 187,
   "id": "c11046f6-3a50-44c3-b839-2b31873aab6f",
   "metadata": {},
   "outputs": [
    {
     "data": {
      "text/plain": [
       "MultiIndex([('p_value',        'column'),\n",
       "            ('p_value',     'avaliacao'),\n",
       "            ('p_value',     'qt_falhas'),\n",
       "            ('p_value', 'qt_alteracoes')],\n",
       "           )"
      ]
     },
     "execution_count": 187,
     "metadata": {},
     "output_type": "execute_result"
    }
   ],
   "source": [
    "pd.MultiIndex.from_product([[\"p_value\"], [\"column\"] + metrics])"
   ]
  },
  {
   "cell_type": "code",
   "execution_count": 188,
   "id": "1185eaae-4fdd-4597-9cfd-81a288f26f02",
   "metadata": {},
   "outputs": [],
   "source": [
    "df_p_values = pd.DataFrame(data=p_dataset, columns=pd.MultiIndex.from_product([[\"p_value\"], [\"column\"] + metrics]))"
   ]
  },
  {
   "cell_type": "code",
   "execution_count": 189,
   "id": "5ba418d5-1c30-4e04-8d8b-c2837e061958",
   "metadata": {},
   "outputs": [],
   "source": [
    "def destaca_p_value(x):\n",
    "    try:\n",
    "        if float(x) < 0.05:\n",
    "            return \"background-color: #FFDEAD\"\n",
    "    except:\n",
    "        return None "
   ]
  },
  {
   "cell_type": "code",
   "execution_count": 197,
   "id": "bfbc8cfd-6893-4ac4-b51f-93dee8f9ca4a",
   "metadata": {
    "tags": []
   },
   "outputs": [
    {
     "data": {
      "text/html": [
       "<style type=\"text/css\">\n",
       "#T_05fd4_row0_col1, #T_05fd4_row0_col2, #T_05fd4_row1_col1, #T_05fd4_row1_col2, #T_05fd4_row2_col1, #T_05fd4_row2_col2, #T_05fd4_row3_col1, #T_05fd4_row6_col1, #T_05fd4_row6_col2, #T_05fd4_row11_col1, #T_05fd4_row11_col2, #T_05fd4_row11_col3, #T_05fd4_row12_col1, #T_05fd4_row12_col2, #T_05fd4_row12_col3, #T_05fd4_row14_col1, #T_05fd4_row14_col2, #T_05fd4_row14_col3, #T_05fd4_row15_col3, #T_05fd4_row16_col1, #T_05fd4_row16_col2, #T_05fd4_row17_col1, #T_05fd4_row17_col2, #T_05fd4_row17_col3, #T_05fd4_row19_col1, #T_05fd4_row19_col2, #T_05fd4_row20_col1, #T_05fd4_row20_col2, #T_05fd4_row20_col3, #T_05fd4_row21_col1, #T_05fd4_row21_col2, #T_05fd4_row21_col3 {\n",
       "  background-color: #FFDEAD;\n",
       "}\n",
       "</style>\n",
       "<table id=\"T_05fd4_\">\n",
       "  <thead>\n",
       "    <tr>\n",
       "      <th class=\"blank level0\" >&nbsp;</th>\n",
       "      <th class=\"col_heading level0 col0\" colspan=\"4\">p_value</th>\n",
       "    </tr>\n",
       "    <tr>\n",
       "      <th class=\"blank level1\" >&nbsp;</th>\n",
       "      <th class=\"col_heading level1 col0\" >column</th>\n",
       "      <th class=\"col_heading level1 col1\" >avaliacao</th>\n",
       "      <th class=\"col_heading level1 col2\" >qt_falhas</th>\n",
       "      <th class=\"col_heading level1 col3\" >qt_alteracoes</th>\n",
       "    </tr>\n",
       "  </thead>\n",
       "  <tbody>\n",
       "    <tr>\n",
       "      <th id=\"T_05fd4_level0_row0\" class=\"row_heading level0 row0\" >0</th>\n",
       "      <td id=\"T_05fd4_row0_col0\" class=\"data row0 col0\" >bool_cert</td>\n",
       "      <td id=\"T_05fd4_row0_col1\" class=\"data row0 col1\" >0.00002446</td>\n",
       "      <td id=\"T_05fd4_row0_col2\" class=\"data row0 col2\" >0.00019791</td>\n",
       "      <td id=\"T_05fd4_row0_col3\" class=\"data row0 col3\" >0.08201374</td>\n",
       "    </tr>\n",
       "    <tr>\n",
       "      <th id=\"T_05fd4_level0_row1\" class=\"row_heading level0 row1\" >1</th>\n",
       "      <td id=\"T_05fd4_row1_col0\" class=\"data row1 col0\" >bool_experiencia</td>\n",
       "      <td id=\"T_05fd4_row1_col1\" class=\"data row1 col1\" >0.00004703</td>\n",
       "      <td id=\"T_05fd4_row1_col2\" class=\"data row1 col2\" >0.00385906</td>\n",
       "      <td id=\"T_05fd4_row1_col3\" class=\"data row1 col3\" >0.07340665</td>\n",
       "    </tr>\n",
       "    <tr>\n",
       "      <th id=\"T_05fd4_level0_row2\" class=\"row_heading level0 row2\" >2</th>\n",
       "      <td id=\"T_05fd4_row2_col0\" class=\"data row2 col0\" >bool_mtd_scrum</td>\n",
       "      <td id=\"T_05fd4_row2_col1\" class=\"data row2 col1\" >0.00000203</td>\n",
       "      <td id=\"T_05fd4_row2_col2\" class=\"data row2 col2\" >0.00009249</td>\n",
       "      <td id=\"T_05fd4_row2_col3\" class=\"data row2 col3\" >0.24460422</td>\n",
       "    </tr>\n",
       "    <tr>\n",
       "      <th id=\"T_05fd4_level0_row3\" class=\"row_heading level0 row3\" >3</th>\n",
       "      <td id=\"T_05fd4_row3_col0\" class=\"data row3 col0\" >bool_mtd_kanban</td>\n",
       "      <td id=\"T_05fd4_row3_col1\" class=\"data row3 col1\" >0.01246566</td>\n",
       "      <td id=\"T_05fd4_row3_col2\" class=\"data row3 col2\" >0.07025762</td>\n",
       "      <td id=\"T_05fd4_row3_col3\" class=\"data row3 col3\" >0.76684302</td>\n",
       "    </tr>\n",
       "    <tr>\n",
       "      <th id=\"T_05fd4_level0_row4\" class=\"row_heading level0 row4\" >4</th>\n",
       "      <td id=\"T_05fd4_row4_col0\" class=\"data row4 col0\" >bool_mtd_okr</td>\n",
       "      <td id=\"T_05fd4_row4_col1\" class=\"data row4 col1\" >0.80518810</td>\n",
       "      <td id=\"T_05fd4_row4_col2\" class=\"data row4 col2\" >0.54110971</td>\n",
       "      <td id=\"T_05fd4_row4_col3\" class=\"data row4 col3\" >0.07932321</td>\n",
       "    </tr>\n",
       "    <tr>\n",
       "      <th id=\"T_05fd4_level0_row5\" class=\"row_heading level0 row5\" >5</th>\n",
       "      <td id=\"T_05fd4_row5_col0\" class=\"data row5 col0\" >bool_mtd_safe</td>\n",
       "      <td id=\"T_05fd4_row5_col1\" class=\"data row5 col1\" >0.40475023</td>\n",
       "      <td id=\"T_05fd4_row5_col2\" class=\"data row5 col2\" >0.88006562</td>\n",
       "      <td id=\"T_05fd4_row5_col3\" class=\"data row5 col3\" >0.55359191</td>\n",
       "    </tr>\n",
       "    <tr>\n",
       "      <th id=\"T_05fd4_level0_row6\" class=\"row_heading level0 row6\" >6</th>\n",
       "      <td id=\"T_05fd4_row6_col0\" class=\"data row6 col0\" >bool_mtd_classica</td>\n",
       "      <td id=\"T_05fd4_row6_col1\" class=\"data row6 col1\" >0.00005505</td>\n",
       "      <td id=\"T_05fd4_row6_col2\" class=\"data row6 col2\" >0.00276064</td>\n",
       "      <td id=\"T_05fd4_row6_col3\" class=\"data row6 col3\" >0.72892069</td>\n",
       "    </tr>\n",
       "    <tr>\n",
       "      <th id=\"T_05fd4_level0_row7\" class=\"row_heading level0 row7\" >7</th>\n",
       "      <td id=\"T_05fd4_row7_col0\" class=\"data row7 col0\" >bool_src_sql</td>\n",
       "      <td id=\"T_05fd4_row7_col1\" class=\"data row7 col1\" >0.49153058</td>\n",
       "      <td id=\"T_05fd4_row7_col2\" class=\"data row7 col2\" >0.14030128</td>\n",
       "      <td id=\"T_05fd4_row7_col3\" class=\"data row7 col3\" >0.84551810</td>\n",
       "    </tr>\n",
       "    <tr>\n",
       "      <th id=\"T_05fd4_level0_row8\" class=\"row_heading level0 row8\" >8</th>\n",
       "      <td id=\"T_05fd4_row8_col0\" class=\"data row8 col0\" >bool_src_api</td>\n",
       "      <td id=\"T_05fd4_row8_col1\" class=\"data row8 col1\" >0.14792935</td>\n",
       "      <td id=\"T_05fd4_row8_col2\" class=\"data row8 col2\" >0.84655355</td>\n",
       "      <td id=\"T_05fd4_row8_col3\" class=\"data row8 col3\" >0.90755690</td>\n",
       "    </tr>\n",
       "    <tr>\n",
       "      <th id=\"T_05fd4_level0_row9\" class=\"row_heading level0 row9\" >9</th>\n",
       "      <td id=\"T_05fd4_row9_col0\" class=\"data row9 col0\" >bool_src_nosql</td>\n",
       "      <td id=\"T_05fd4_row9_col1\" class=\"data row9 col1\" >0.28794632</td>\n",
       "      <td id=\"T_05fd4_row9_col2\" class=\"data row9 col2\" >0.81373981</td>\n",
       "      <td id=\"T_05fd4_row9_col3\" class=\"data row9 col3\" >0.36065776</td>\n",
       "    </tr>\n",
       "    <tr>\n",
       "      <th id=\"T_05fd4_level0_row10\" class=\"row_heading level0 row10\" >10</th>\n",
       "      <td id=\"T_05fd4_row10_col0\" class=\"data row10 col0\" >bool_src_outros</td>\n",
       "      <td id=\"T_05fd4_row10_col1\" class=\"data row10 col1\" >0.41676310</td>\n",
       "      <td id=\"T_05fd4_row10_col2\" class=\"data row10 col2\" >0.52058714</td>\n",
       "      <td id=\"T_05fd4_row10_col3\" class=\"data row10 col3\" >0.26955759</td>\n",
       "    </tr>\n",
       "    <tr>\n",
       "      <th id=\"T_05fd4_level0_row11\" class=\"row_heading level0 row11\" >11</th>\n",
       "      <td id=\"T_05fd4_row11_col0\" class=\"data row11 col0\" >bool_alt_eqp</td>\n",
       "      <td id=\"T_05fd4_row11_col1\" class=\"data row11 col1\" >0.00515798</td>\n",
       "      <td id=\"T_05fd4_row11_col2\" class=\"data row11 col2\" >0.00168888</td>\n",
       "      <td id=\"T_05fd4_row11_col3\" class=\"data row11 col3\" >0.00000000</td>\n",
       "    </tr>\n",
       "    <tr>\n",
       "      <th id=\"T_05fd4_level0_row12\" class=\"row_heading level0 row12\" >12</th>\n",
       "      <td id=\"T_05fd4_row12_col0\" class=\"data row12 col0\" >bool_alt_bd</td>\n",
       "      <td id=\"T_05fd4_row12_col1\" class=\"data row12 col1\" >0.00068185</td>\n",
       "      <td id=\"T_05fd4_row12_col2\" class=\"data row12 col2\" >0.01555321</td>\n",
       "      <td id=\"T_05fd4_row12_col3\" class=\"data row12 col3\" >0.00000000</td>\n",
       "    </tr>\n",
       "    <tr>\n",
       "      <th id=\"T_05fd4_level0_row13\" class=\"row_heading level0 row13\" >13</th>\n",
       "      <td id=\"T_05fd4_row13_col0\" class=\"data row13 col0\" >bool_alt_sol</td>\n",
       "      <td id=\"T_05fd4_row13_col1\" class=\"data row13 col1\" >nan</td>\n",
       "      <td id=\"T_05fd4_row13_col2\" class=\"data row13 col2\" >nan</td>\n",
       "      <td id=\"T_05fd4_row13_col3\" class=\"data row13 col3\" >nan</td>\n",
       "    </tr>\n",
       "    <tr>\n",
       "      <th id=\"T_05fd4_level0_row14\" class=\"row_heading level0 row14\" >14</th>\n",
       "      <td id=\"T_05fd4_row14_col0\" class=\"data row14 col0\" >bool_alt_custo</td>\n",
       "      <td id=\"T_05fd4_row14_col1\" class=\"data row14 col1\" >0.01390827</td>\n",
       "      <td id=\"T_05fd4_row14_col2\" class=\"data row14 col2\" >0.00137484</td>\n",
       "      <td id=\"T_05fd4_row14_col3\" class=\"data row14 col3\" >0.00000000</td>\n",
       "    </tr>\n",
       "    <tr>\n",
       "      <th id=\"T_05fd4_level0_row15\" class=\"row_heading level0 row15\" >15</th>\n",
       "      <td id=\"T_05fd4_row15_col0\" class=\"data row15 col0\" >bool_alt_tec</td>\n",
       "      <td id=\"T_05fd4_row15_col1\" class=\"data row15 col1\" >0.05099689</td>\n",
       "      <td id=\"T_05fd4_row15_col2\" class=\"data row15 col2\" >0.07857953</td>\n",
       "      <td id=\"T_05fd4_row15_col3\" class=\"data row15 col3\" >0.00000000</td>\n",
       "    </tr>\n",
       "    <tr>\n",
       "      <th id=\"T_05fd4_level0_row16\" class=\"row_heading level0 row16\" >16</th>\n",
       "      <td id=\"T_05fd4_row16_col0\" class=\"data row16 col0\" >bool_falha_gov</td>\n",
       "      <td id=\"T_05fd4_row16_col1\" class=\"data row16 col1\" >0.00167854</td>\n",
       "      <td id=\"T_05fd4_row16_col2\" class=\"data row16 col2\" >0.00000000</td>\n",
       "      <td id=\"T_05fd4_row16_col3\" class=\"data row16 col3\" >0.74576224</td>\n",
       "    </tr>\n",
       "    <tr>\n",
       "      <th id=\"T_05fd4_level0_row17\" class=\"row_heading level0 row17\" >17</th>\n",
       "      <td id=\"T_05fd4_row17_col0\" class=\"data row17 col0\" >bool_falha_dev</td>\n",
       "      <td id=\"T_05fd4_row17_col1\" class=\"data row17 col1\" >0.00001146</td>\n",
       "      <td id=\"T_05fd4_row17_col2\" class=\"data row17 col2\" >0.00000000</td>\n",
       "      <td id=\"T_05fd4_row17_col3\" class=\"data row17 col3\" >0.00867611</td>\n",
       "    </tr>\n",
       "    <tr>\n",
       "      <th id=\"T_05fd4_level0_row18\" class=\"row_heading level0 row18\" >18</th>\n",
       "      <td id=\"T_05fd4_row18_col0\" class=\"data row18 col0\" >bool_falha_aus_info</td>\n",
       "      <td id=\"T_05fd4_row18_col1\" class=\"data row18 col1\" >nan</td>\n",
       "      <td id=\"T_05fd4_row18_col2\" class=\"data row18 col2\" >nan</td>\n",
       "      <td id=\"T_05fd4_row18_col3\" class=\"data row18 col3\" >nan</td>\n",
       "    </tr>\n",
       "    <tr>\n",
       "      <th id=\"T_05fd4_level0_row19\" class=\"row_heading level0 row19\" >19</th>\n",
       "      <td id=\"T_05fd4_row19_col0\" class=\"data row19 col0\" >bool_falha_pln_custo</td>\n",
       "      <td id=\"T_05fd4_row19_col1\" class=\"data row19 col1\" >0.00032595</td>\n",
       "      <td id=\"T_05fd4_row19_col2\" class=\"data row19 col2\" >0.00000000</td>\n",
       "      <td id=\"T_05fd4_row19_col3\" class=\"data row19 col3\" >0.07838923</td>\n",
       "    </tr>\n",
       "    <tr>\n",
       "      <th id=\"T_05fd4_level0_row20\" class=\"row_heading level0 row20\" >20</th>\n",
       "      <td id=\"T_05fd4_row20_col0\" class=\"data row20 col0\" >bool_falha_gst_lid</td>\n",
       "      <td id=\"T_05fd4_row20_col1\" class=\"data row20 col1\" >0.00000078</td>\n",
       "      <td id=\"T_05fd4_row20_col2\" class=\"data row20 col2\" >0.00000000</td>\n",
       "      <td id=\"T_05fd4_row20_col3\" class=\"data row20 col3\" >0.00140185</td>\n",
       "    </tr>\n",
       "    <tr>\n",
       "      <th id=\"T_05fd4_level0_row21\" class=\"row_heading level0 row21\" >21</th>\n",
       "      <td id=\"T_05fd4_row21_col0\" class=\"data row21 col0\" >bool_falha_usu</td>\n",
       "      <td id=\"T_05fd4_row21_col1\" class=\"data row21 col1\" >0.00000215</td>\n",
       "      <td id=\"T_05fd4_row21_col2\" class=\"data row21 col2\" >0.00000000</td>\n",
       "      <td id=\"T_05fd4_row21_col3\" class=\"data row21 col3\" >0.00022349</td>\n",
       "    </tr>\n",
       "  </tbody>\n",
       "</table>\n"
      ],
      "text/plain": [
       "<pandas.io.formats.style.Styler at 0x2813d2f80>"
      ]
     },
     "metadata": {},
     "output_type": "display_data"
    }
   ],
   "source": [
    "df_colorido = df_p_values.style.applymap(destaca_p_value)\n",
    "\n",
    "with pd.option_context('display.max_rows', None, 'display.max_columns', None):  # more options can be specified also\n",
    "    display(df_colorido)"
   ]
  },
  {
   "cell_type": "code",
   "execution_count": 79,
   "id": "c6ad088f-a751-410f-8708-386f2e3847f5",
   "metadata": {},
   "outputs": [],
   "source": [
    "fvalue, pvalue = stats.f_oneway(\n",
    "    df.query(\"provedor == 'AWS'\")[\"avaliacao\"], \n",
    "    df.query(\"provedor == 'GCP'\")[\"avaliacao\"],\n",
    "    df.query(\"provedor == 'Azure'\")[\"avaliacao\"]\n",
    ")"
   ]
  },
  {
   "cell_type": "code",
   "execution_count": 80,
   "id": "e758f0cc-1357-4fc5-860b-ff039fd6d2b1",
   "metadata": {},
   "outputs": [
    {
     "data": {
      "text/plain": [
       "0.367442990861321"
      ]
     },
     "execution_count": 80,
     "metadata": {},
     "output_type": "execute_result"
    }
   ],
   "source": [
    "pvalue"
   ]
  },
  {
   "cell_type": "code",
   "execution_count": 82,
   "id": "65e363b1-7556-45c9-b884-0f0d6f4e4c46",
   "metadata": {},
   "outputs": [
    {
     "data": {
      "text/plain": [
       "0.0221618080173713"
      ]
     },
     "execution_count": 82,
     "metadata": {},
     "output_type": "execute_result"
    }
   ],
   "source": [
    "fvalue, pvalue = stats.f_oneway(\n",
    "    df.query(\"maior_desafio == 'Variedade'\")[\"avaliacao\"], \n",
    "    df.query(\"maior_desafio == 'Velocidade'\")[\"avaliacao\"],\n",
    "    df.query(\"maior_desafio == 'Volume'\")[\"avaliacao\"]\n",
    ")\n",
    "\n",
    "pvalue"
   ]
  },
  {
   "cell_type": "code",
   "execution_count": 83,
   "id": "d9828eb1-42bb-47aa-b3a9-fd72d8f3da34",
   "metadata": {},
   "outputs": [
    {
     "data": {
      "image/png": "[encoded data removed]",
      "text/plain": [
       "<Figure size 432x288 with 1 Axes>"
      ]
     },
     "metadata": {},
     "output_type": "display_data"
    }
   ],
   "source": [
    "ax = sns.boxplot(x='maior_desafio', y='avaliacao', data=df, color='#99c2a2')\n",
    "ax = sns.swarmplot(x=\"maior_desafio\", y=\"avaliacao\", data=df, color='#7d0013')\n",
    "plt.show()"
   ]
  },
  {
   "cell_type": "markdown",
   "id": "88d09591-5e2f-47d1-950c-b186594924dc",
   "metadata": {},
   "source": [
    "#### Sample description"
   ]
  },
  {
   "cell_type": "code",
   "execution_count": 117,
   "id": "60bb3288-3cd5-475e-9eeb-d1ad9df29b4a",
   "metadata": {},
   "outputs": [
    {
     "data": {
      "text/plain": [
       "RangeIndex(start=0, stop=102, step=1)"
      ]
     },
     "execution_count": 117,
     "metadata": {},
     "output_type": "execute_result"
    }
   ],
   "source": [
    "df.index"
   ]
  },
  {
   "cell_type": "code",
   "execution_count": 136,
   "id": "acd102ff-c00f-432b-9c9c-1620ef467588",
   "metadata": {},
   "outputs": [],
   "source": [
    "stats_list = list()\n",
    "\n",
    "for column in df.columns:\n",
    "    for value, count in df.groupby(column).size().iteritems():\n",
    "        stats_list.append([column, value, count, round((count/102)*100, 2)])"
   ]
  },
  {
   "cell_type": "code",
   "execution_count": 159,
   "id": "874ee7a4-9e2f-498e-8009-023f423d5ec0",
   "metadata": {},
   "outputs": [
    {
     "data": {
      "text/html": [
       "<div>\n",
       "<style scoped>\n",
       "    .dataframe tbody tr th:only-of-type {\n",
       "        vertical-align: middle;\n",
       "    }\n",
       "\n",
       "    .dataframe tbody tr th {\n",
       "        vertical-align: top;\n",
       "    }\n",
       "\n",
       "    .dataframe thead th {\n",
       "        text-align: right;\n",
       "    }\n",
       "</style>\n",
       "<table border=\"1\" class=\"dataframe\">\n",
       "  <thead>\n",
       "    <tr style=\"text-align: right;\">\n",
       "      <th></th>\n",
       "      <th>column</th>\n",
       "      <th>value</th>\n",
       "      <th>count</th>\n",
       "      <th>pct</th>\n",
       "    </tr>\n",
       "  </thead>\n",
       "  <tbody>\n",
       "    <tr>\n",
       "      <th>0</th>\n",
       "      <td>atua_como</td>\n",
       "      <td>Interno</td>\n",
       "      <td>69</td>\n",
       "      <td>67.65</td>\n",
       "    </tr>\n",
       "    <tr>\n",
       "      <th>1</th>\n",
       "      <td>atua_como</td>\n",
       "      <td>Terceiro</td>\n",
       "      <td>33</td>\n",
       "      <td>32.35</td>\n",
       "    </tr>\n",
       "    <tr>\n",
       "      <th>2</th>\n",
       "      <td>bool_cert</td>\n",
       "      <td>0</td>\n",
       "      <td>35</td>\n",
       "      <td>34.31</td>\n",
       "    </tr>\n",
       "    <tr>\n",
       "      <th>3</th>\n",
       "      <td>bool_cert</td>\n",
       "      <td>1</td>\n",
       "      <td>67</td>\n",
       "      <td>65.69</td>\n",
       "    </tr>\n",
       "    <tr>\n",
       "      <th>4</th>\n",
       "      <td>provedor</td>\n",
       "      <td>AWS</td>\n",
       "      <td>39</td>\n",
       "      <td>38.24</td>\n",
       "    </tr>\n",
       "  </tbody>\n",
       "</table>\n",
       "</div>"
      ],
      "text/plain": [
       "      column     value  count    pct\n",
       "0  atua_como   Interno     69  67.65\n",
       "1  atua_como  Terceiro     33  32.35\n",
       "2  bool_cert         0     35  34.31\n",
       "3  bool_cert         1     67  65.69\n",
       "4   provedor       AWS     39  38.24"
      ]
     },
     "execution_count": 159,
     "metadata": {},
     "output_type": "execute_result"
    }
   ],
   "source": [
    "distribuicao = pd.DataFrame(stats_list, columns=[\"column\", \"value\", \"count\", \"pct\"])\n",
    "distribuicao.head()"
   ]
  },
  {
   "cell_type": "code",
   "execution_count": 158,
   "id": "cc9497bc-d1b3-4613-ac6d-c40c87447f01",
   "metadata": {},
   "outputs": [
    {
     "data": {
      "text/plain": [
       "<seaborn.axisgrid.FacetGrid at 0x280ceece0>"
      ]
     },
     "execution_count": 158,
     "metadata": {},
     "output_type": "execute_result"
    },
    {
     "data": {
      "image/png": "[encoded data removed]",
      "text/plain": [
       "<Figure size 360x360 with 1 Axes>"
      ]
     },
     "metadata": {},
     "output_type": "display_data"
    }
   ],
   "source": [
    "sns.displot(df, x=\"posicao\", bins=5)"
   ]
  },
  {
   "cell_type": "code",
   "execution_count": 157,
   "id": "a966e1fd-50a0-4da2-bd8b-3ec9dbfeccf1",
   "metadata": {},
   "outputs": [
    {
     "data": {
      "text/plain": [
       "<seaborn.axisgrid.FacetGrid at 0x280c7e8f0>"
      ]
     },
     "execution_count": 157,
     "metadata": {},
     "output_type": "execute_result"
    },
    {
     "data": {
      "image/png": "[encoded data removed]",
      "text/plain": [
       "<Figure size 360x360 with 1 Axes>"
      ]
     },
     "metadata": {},
     "output_type": "display_data"
    }
   ],
   "source": [
    "sns.displot(df, x=\"provedor\", bins=5)"
   ]
  },
  {
   "cell_type": "code",
   "execution_count": 156,
   "id": "b3cbf8f2-b623-4670-8b8e-6174e6eccbbd",
   "metadata": {},
   "outputs": [
    {
     "data": {
      "text/plain": [
       "<seaborn.axisgrid.FacetGrid at 0x280c5cf40>"
      ]
     },
     "execution_count": 156,
     "metadata": {},
     "output_type": "execute_result"
    },
    {
     "data": {
      "image/png": "[encoded data removed]",
      "text/plain": [
       "<Figure size 360x360 with 1 Axes>"
      ]
     },
     "metadata": {},
     "output_type": "display_data"
    }
   ],
   "source": [
    "sns.displot(df, x=\"avaliacao\", bins=5)"
   ]
  },
  {
   "cell_type": "code",
   "execution_count": 154,
   "id": "a594aac3-198b-442d-9a38-0559ab4f06e8",
   "metadata": {},
   "outputs": [
    {
     "data": {
      "text/plain": [
       "<seaborn.axisgrid.FacetGrid at 0x15b792320>"
      ]
     },
     "execution_count": 154,
     "metadata": {},
     "output_type": "execute_result"
    },
    {
     "data": {
      "image/png": "[encoded data removed]",
      "text/plain": [
       "<Figure size 360x360 with 1 Axes>"
      ]
     },
     "metadata": {},
     "output_type": "display_data"
    }
   ],
   "source": [
    "sns.displot(df, x=\"qt_falhas\", bins=5)"
   ]
  },
  {
   "cell_type": "code",
   "execution_count": 163,
   "id": "045e3f2d-88c9-4fd4-8db8-d6c52ba94436",
   "metadata": {},
   "outputs": [],
   "source": [
    "distribuicao.to_csv(\"output/dist.csv\", index=False)"
   ]
  },
  {
   "cell_type": "code",
   "execution_count": null,
   "id": "e7938f2c-dd23-4e3d-8f47-4bf260e12d5e",
   "metadata": {},
   "outputs": [],
   "source": []
  }
 ],
 "metadata": {
  "kernelspec": {
   "display_name": "Python 3 (ipykernel)",
   "language": "python",
   "name": "python3"
  },
  "language_info": {
   "codemirror_mode": {
    "name": "ipython",
    "version": 3
   },
   "file_extension": ".py",
   "mimetype": "text/x-python",
   "name": "python",
   "nbconvert_exporter": "python",
   "pygments_lexer": "ipython3",
   "version": "3.10.2"
  }
 },
 "nbformat": 4,
 "nbformat_minor": 5
}
