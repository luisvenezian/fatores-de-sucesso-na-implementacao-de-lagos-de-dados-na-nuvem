{
 "cells": [
  {
   "cell_type": "code",
   "execution_count": 100,
   "id": "53c428ef-0d34-4050-953c-037de29fe72b",
   "metadata": {},
   "outputs": [],
   "source": [
    "import pandas as pd"
   ]
  },
  {
   "cell_type": "code",
   "execution_count": 101,
   "id": "fc3c6fcd-55cd-4f0e-9cc0-a4ec26d58780",
   "metadata": {},
   "outputs": [],
   "source": [
    "df = pd.read_csv(\"dataset/refined.tsv\", sep=\"\\t\")"
   ]
  },
  {
   "cell_type": "code",
   "execution_count": 102,
   "id": "5893959f-a1c6-41d6-a37e-eded53ca7bf7",
   "metadata": {},
   "outputs": [
    {
     "data": {
      "text/html": [
       "<div>\n",
       "<style scoped>\n",
       "    .dataframe tbody tr th:only-of-type {\n",
       "        vertical-align: middle;\n",
       "    }\n",
       "\n",
       "    .dataframe tbody tr th {\n",
       "        vertical-align: top;\n",
       "    }\n",
       "\n",
       "    .dataframe thead th {\n",
       "        text-align: right;\n",
       "    }\n",
       "</style>\n",
       "<table border=\"1\" class=\"dataframe\">\n",
       "  <thead>\n",
       "    <tr style=\"text-align: right;\">\n",
       "      <th></th>\n",
       "      <th>atua_como</th>\n",
       "      <th>bool_cert</th>\n",
       "      <th>provedor</th>\n",
       "      <th>maior_desafio</th>\n",
       "      <th>tam_equipe</th>\n",
       "      <th>avaliacao</th>\n",
       "      <th>porte</th>\n",
       "      <th>tam_investimento</th>\n",
       "      <th>posicao</th>\n",
       "      <th>segmentacao</th>\n",
       "      <th>...</th>\n",
       "      <th>bool_alt_custo</th>\n",
       "      <th>bool_alt_tec</th>\n",
       "      <th>bool_falha_gov</th>\n",
       "      <th>bool_falha_dev</th>\n",
       "      <th>bool_falha_aus_info</th>\n",
       "      <th>bool_falha_pln_custo</th>\n",
       "      <th>bool_falha_gst_lid</th>\n",
       "      <th>bool_falha_usu</th>\n",
       "      <th>qt_alteracoes</th>\n",
       "      <th>qt_falhas</th>\n",
       "    </tr>\n",
       "  </thead>\n",
       "  <tbody>\n",
       "    <tr>\n",
       "      <th>0</th>\n",
       "      <td>Terceiro</td>\n",
       "      <td>1</td>\n",
       "      <td>AWS</td>\n",
       "      <td>Variedade</td>\n",
       "      <td>[0,5]</td>\n",
       "      <td>5</td>\n",
       "      <td>]500,+∞]</td>\n",
       "      <td>[0,10]</td>\n",
       "      <td>Dev</td>\n",
       "      <td>B2B</td>\n",
       "      <td>...</td>\n",
       "      <td>0</td>\n",
       "      <td>0</td>\n",
       "      <td>0</td>\n",
       "      <td>0</td>\n",
       "      <td>0</td>\n",
       "      <td>0</td>\n",
       "      <td>0</td>\n",
       "      <td>0</td>\n",
       "      <td>2</td>\n",
       "      <td>0</td>\n",
       "    </tr>\n",
       "    <tr>\n",
       "      <th>1</th>\n",
       "      <td>Terceiro</td>\n",
       "      <td>1</td>\n",
       "      <td>AWS</td>\n",
       "      <td>Velocidade</td>\n",
       "      <td>]10,20]</td>\n",
       "      <td>4</td>\n",
       "      <td>]100,500]</td>\n",
       "      <td>NaN</td>\n",
       "      <td>Gestão</td>\n",
       "      <td>B2B</td>\n",
       "      <td>...</td>\n",
       "      <td>0</td>\n",
       "      <td>0</td>\n",
       "      <td>0</td>\n",
       "      <td>1</td>\n",
       "      <td>0</td>\n",
       "      <td>1</td>\n",
       "      <td>0</td>\n",
       "      <td>0</td>\n",
       "      <td>0</td>\n",
       "      <td>2</td>\n",
       "    </tr>\n",
       "    <tr>\n",
       "      <th>2</th>\n",
       "      <td>Interno</td>\n",
       "      <td>1</td>\n",
       "      <td>Azure</td>\n",
       "      <td>Variedade</td>\n",
       "      <td>]10,20]</td>\n",
       "      <td>3</td>\n",
       "      <td>]20,50]</td>\n",
       "      <td>]20,30]</td>\n",
       "      <td>Dev</td>\n",
       "      <td>B2ALL</td>\n",
       "      <td>...</td>\n",
       "      <td>1</td>\n",
       "      <td>0</td>\n",
       "      <td>1</td>\n",
       "      <td>0</td>\n",
       "      <td>0</td>\n",
       "      <td>1</td>\n",
       "      <td>1</td>\n",
       "      <td>0</td>\n",
       "      <td>2</td>\n",
       "      <td>3</td>\n",
       "    </tr>\n",
       "    <tr>\n",
       "      <th>3</th>\n",
       "      <td>Terceiro</td>\n",
       "      <td>0</td>\n",
       "      <td>AWS</td>\n",
       "      <td>Volume</td>\n",
       "      <td>]5,10]</td>\n",
       "      <td>5</td>\n",
       "      <td>[0,20]</td>\n",
       "      <td>]10,20]</td>\n",
       "      <td>Dev</td>\n",
       "      <td>B2B</td>\n",
       "      <td>...</td>\n",
       "      <td>0</td>\n",
       "      <td>1</td>\n",
       "      <td>0</td>\n",
       "      <td>0</td>\n",
       "      <td>0</td>\n",
       "      <td>0</td>\n",
       "      <td>0</td>\n",
       "      <td>0</td>\n",
       "      <td>2</td>\n",
       "      <td>0</td>\n",
       "    </tr>\n",
       "    <tr>\n",
       "      <th>4</th>\n",
       "      <td>Interno</td>\n",
       "      <td>1</td>\n",
       "      <td>Azure</td>\n",
       "      <td>Velocidade</td>\n",
       "      <td>[0,5]</td>\n",
       "      <td>4</td>\n",
       "      <td>]100,500]</td>\n",
       "      <td>]50,100]</td>\n",
       "      <td>Gestão</td>\n",
       "      <td>B2B</td>\n",
       "      <td>...</td>\n",
       "      <td>0</td>\n",
       "      <td>0</td>\n",
       "      <td>0</td>\n",
       "      <td>0</td>\n",
       "      <td>0</td>\n",
       "      <td>0</td>\n",
       "      <td>0</td>\n",
       "      <td>0</td>\n",
       "      <td>0</td>\n",
       "      <td>0</td>\n",
       "    </tr>\n",
       "    <tr>\n",
       "      <th>...</th>\n",
       "      <td>...</td>\n",
       "      <td>...</td>\n",
       "      <td>...</td>\n",
       "      <td>...</td>\n",
       "      <td>...</td>\n",
       "      <td>...</td>\n",
       "      <td>...</td>\n",
       "      <td>...</td>\n",
       "      <td>...</td>\n",
       "      <td>...</td>\n",
       "      <td>...</td>\n",
       "      <td>...</td>\n",
       "      <td>...</td>\n",
       "      <td>...</td>\n",
       "      <td>...</td>\n",
       "      <td>...</td>\n",
       "      <td>...</td>\n",
       "      <td>...</td>\n",
       "      <td>...</td>\n",
       "      <td>...</td>\n",
       "      <td>...</td>\n",
       "    </tr>\n",
       "    <tr>\n",
       "      <th>97</th>\n",
       "      <td>Interno</td>\n",
       "      <td>1</td>\n",
       "      <td>GCP</td>\n",
       "      <td>Variedade</td>\n",
       "      <td>]35,+∞]</td>\n",
       "      <td>4</td>\n",
       "      <td>]500,+∞]</td>\n",
       "      <td>]50,100]</td>\n",
       "      <td>Gestão</td>\n",
       "      <td>B2ALL</td>\n",
       "      <td>...</td>\n",
       "      <td>1</td>\n",
       "      <td>1</td>\n",
       "      <td>0</td>\n",
       "      <td>0</td>\n",
       "      <td>0</td>\n",
       "      <td>1</td>\n",
       "      <td>0</td>\n",
       "      <td>1</td>\n",
       "      <td>3</td>\n",
       "      <td>2</td>\n",
       "    </tr>\n",
       "    <tr>\n",
       "      <th>98</th>\n",
       "      <td>Terceiro</td>\n",
       "      <td>0</td>\n",
       "      <td>AWS</td>\n",
       "      <td>Volume</td>\n",
       "      <td>]10,20]</td>\n",
       "      <td>4</td>\n",
       "      <td>]500,+∞]</td>\n",
       "      <td>]100,+∞]</td>\n",
       "      <td>Dev</td>\n",
       "      <td>B2B</td>\n",
       "      <td>...</td>\n",
       "      <td>0</td>\n",
       "      <td>0</td>\n",
       "      <td>0</td>\n",
       "      <td>0</td>\n",
       "      <td>0</td>\n",
       "      <td>0</td>\n",
       "      <td>0</td>\n",
       "      <td>0</td>\n",
       "      <td>0</td>\n",
       "      <td>0</td>\n",
       "    </tr>\n",
       "    <tr>\n",
       "      <th>99</th>\n",
       "      <td>Interno</td>\n",
       "      <td>1</td>\n",
       "      <td>AWS</td>\n",
       "      <td>Velocidade</td>\n",
       "      <td>]5,10]</td>\n",
       "      <td>5</td>\n",
       "      <td>]500,+∞]</td>\n",
       "      <td>]100,+∞]</td>\n",
       "      <td>Gestão</td>\n",
       "      <td>B2ALL</td>\n",
       "      <td>...</td>\n",
       "      <td>0</td>\n",
       "      <td>1</td>\n",
       "      <td>0</td>\n",
       "      <td>0</td>\n",
       "      <td>0</td>\n",
       "      <td>0</td>\n",
       "      <td>0</td>\n",
       "      <td>0</td>\n",
       "      <td>1</td>\n",
       "      <td>0</td>\n",
       "    </tr>\n",
       "    <tr>\n",
       "      <th>100</th>\n",
       "      <td>Interno</td>\n",
       "      <td>1</td>\n",
       "      <td>AWS</td>\n",
       "      <td>Velocidade</td>\n",
       "      <td>]5,10]</td>\n",
       "      <td>3</td>\n",
       "      <td>]100,500]</td>\n",
       "      <td>]100,+∞]</td>\n",
       "      <td>Dev</td>\n",
       "      <td>B2B</td>\n",
       "      <td>...</td>\n",
       "      <td>0</td>\n",
       "      <td>1</td>\n",
       "      <td>0</td>\n",
       "      <td>1</td>\n",
       "      <td>0</td>\n",
       "      <td>0</td>\n",
       "      <td>0</td>\n",
       "      <td>0</td>\n",
       "      <td>1</td>\n",
       "      <td>1</td>\n",
       "    </tr>\n",
       "    <tr>\n",
       "      <th>101</th>\n",
       "      <td>Interno</td>\n",
       "      <td>0</td>\n",
       "      <td>AWS</td>\n",
       "      <td>Volume</td>\n",
       "      <td>]35,+∞]</td>\n",
       "      <td>4</td>\n",
       "      <td>]500,+∞]</td>\n",
       "      <td>]100,+∞]</td>\n",
       "      <td>Dev</td>\n",
       "      <td>B2ALL</td>\n",
       "      <td>...</td>\n",
       "      <td>1</td>\n",
       "      <td>0</td>\n",
       "      <td>1</td>\n",
       "      <td>0</td>\n",
       "      <td>0</td>\n",
       "      <td>1</td>\n",
       "      <td>1</td>\n",
       "      <td>0</td>\n",
       "      <td>1</td>\n",
       "      <td>3</td>\n",
       "    </tr>\n",
       "  </tbody>\n",
       "</table>\n",
       "<p>102 rows × 34 columns</p>\n",
       "</div>"
      ],
      "text/plain": [
       "    atua_como  bool_cert provedor maior_desafio tam_equipe  avaliacao  \\\n",
       "0    Terceiro          1      AWS     Variedade      [0,5]          5   \n",
       "1    Terceiro          1      AWS    Velocidade    ]10,20]          4   \n",
       "2     Interno          1    Azure     Variedade    ]10,20]          3   \n",
       "3    Terceiro          0      AWS        Volume     ]5,10]          5   \n",
       "4     Interno          1    Azure    Velocidade      [0,5]          4   \n",
       "..        ...        ...      ...           ...        ...        ...   \n",
       "97    Interno          1      GCP     Variedade    ]35,+∞]          4   \n",
       "98   Terceiro          0      AWS        Volume    ]10,20]          4   \n",
       "99    Interno          1      AWS    Velocidade     ]5,10]          5   \n",
       "100   Interno          1      AWS    Velocidade     ]5,10]          3   \n",
       "101   Interno          0      AWS        Volume    ]35,+∞]          4   \n",
       "\n",
       "         porte tam_investimento posicao segmentacao  ...  bool_alt_custo  \\\n",
       "0     ]500,+∞]           [0,10]     Dev         B2B  ...               0   \n",
       "1    ]100,500]              NaN  Gestão         B2B  ...               0   \n",
       "2      ]20,50]          ]20,30]     Dev       B2ALL  ...               1   \n",
       "3       [0,20]          ]10,20]     Dev         B2B  ...               0   \n",
       "4    ]100,500]         ]50,100]  Gestão         B2B  ...               0   \n",
       "..         ...              ...     ...         ...  ...             ...   \n",
       "97    ]500,+∞]         ]50,100]  Gestão       B2ALL  ...               1   \n",
       "98    ]500,+∞]         ]100,+∞]     Dev         B2B  ...               0   \n",
       "99    ]500,+∞]         ]100,+∞]  Gestão       B2ALL  ...               0   \n",
       "100  ]100,500]         ]100,+∞]     Dev         B2B  ...               0   \n",
       "101   ]500,+∞]         ]100,+∞]     Dev       B2ALL  ...               1   \n",
       "\n",
       "    bool_alt_tec  bool_falha_gov  bool_falha_dev  bool_falha_aus_info  \\\n",
       "0              0               0               0                    0   \n",
       "1              0               0               1                    0   \n",
       "2              0               1               0                    0   \n",
       "3              1               0               0                    0   \n",
       "4              0               0               0                    0   \n",
       "..           ...             ...             ...                  ...   \n",
       "97             1               0               0                    0   \n",
       "98             0               0               0                    0   \n",
       "99             1               0               0                    0   \n",
       "100            1               0               1                    0   \n",
       "101            0               1               0                    0   \n",
       "\n",
       "     bool_falha_pln_custo  bool_falha_gst_lid  bool_falha_usu  qt_alteracoes  \\\n",
       "0                       0                   0               0              2   \n",
       "1                       1                   0               0              0   \n",
       "2                       1                   1               0              2   \n",
       "3                       0                   0               0              2   \n",
       "4                       0                   0               0              0   \n",
       "..                    ...                 ...             ...            ...   \n",
       "97                      1                   0               1              3   \n",
       "98                      0                   0               0              0   \n",
       "99                      0                   0               0              1   \n",
       "100                     0                   0               0              1   \n",
       "101                     1                   1               0              1   \n",
       "\n",
       "     qt_falhas  \n",
       "0            0  \n",
       "1            2  \n",
       "2            3  \n",
       "3            0  \n",
       "4            0  \n",
       "..         ...  \n",
       "97           2  \n",
       "98           0  \n",
       "99           0  \n",
       "100          1  \n",
       "101          3  \n",
       "\n",
       "[102 rows x 34 columns]"
      ]
     },
     "execution_count": 102,
     "metadata": {},
     "output_type": "execute_result"
    }
   ],
   "source": [
    "df"
   ]
  },
  {
   "cell_type": "code",
   "execution_count": 7,
   "id": "27c4a4fa-7ad6-4f59-a486-7886baf6631f",
   "metadata": {},
   "outputs": [],
   "source": [
    "import seaborn as sns\n",
    "import matplotlib.pyplot as plt\n",
    "sns.set_theme(style=\"ticks\", color_codes=True)"
   ]
  },
  {
   "cell_type": "code",
   "execution_count": 8,
   "id": "70d18780-640a-4b69-887d-014745a05a15",
   "metadata": {},
   "outputs": [
    {
     "data": {
      "text/plain": [
       "<seaborn.axisgrid.FacetGrid at 0x10401cac0>"
      ]
     },
     "execution_count": 8,
     "metadata": {},
     "output_type": "execute_result"
    },
    {
     "data": {
      "image/png": "[encoded data removed]",
      "text/plain": [
       "<Figure size 1138.05x432 with 2 Axes>"
      ]
     },
     "metadata": {},
     "output_type": "display_data"
    }
   ],
   "source": [
    "g = sns.catplot(x=\"tam_equipe\", y=\"avaliacao\", hue=\"bool_cert\", col=\"posicao\",\n",
    "                capsize=.2, palette=\"YlGnBu_d\", height=6, aspect=1.25,\n",
    "                kind=\"point\", data=df)\n",
    "g.despine(left=True)"
   ]
  },
  {
   "cell_type": "code",
   "execution_count": 12,
   "id": "5da62c84-7652-4c47-9b78-a8d646479642",
   "metadata": {},
   "outputs": [
    {
     "data": {
      "text/plain": [
       "<seaborn.axisgrid.FacetGrid at 0x13d119330>"
      ]
     },
     "execution_count": 12,
     "metadata": {},
     "output_type": "execute_result"
    },
    {
     "data": {
      "image/png": "[encoded data removed]",
      "text/plain": [
       "<Figure size 1138.05x432 with 2 Axes>"
      ]
     },
     "metadata": {},
     "output_type": "display_data"
    }
   ],
   "source": [
    "g = sns.catplot(x=\"tam_equipe\", y=\"qt_falhas\", hue=\"bool_cert\", col=\"posicao\",\n",
    "                capsize=.2, palette=\"YlGnBu_d\", height=6, aspect=1.25,\n",
    "                kind=\"point\", data=df)\n",
    "g.despine(left=True)"
   ]
  },
  {
   "cell_type": "code",
   "execution_count": 26,
   "id": "83645f71-8bdb-484f-86db-4576cdee9809",
   "metadata": {},
   "outputs": [
    {
     "data": {
      "image/png": "[encoded data removed]",
      "text/plain": [
       "<Figure size 432x288 with 1 Axes>"
      ]
     },
     "metadata": {},
     "output_type": "display_data"
    }
   ],
   "source": [
    "g = sns.boxplot(x=\"bool_cert\", y=\"qt_falhas\", palette=\"YlGnBu_d\", data=df)"
   ]
  },
  {
   "cell_type": "code",
   "execution_count": 25,
   "id": "b5e5f4e9-8d95-491e-90a0-afaac1a6351d",
   "metadata": {},
   "outputs": [
    {
     "data": {
      "image/png": "[encoded data removed]",
      "text/plain": [
       "<Figure size 432x288 with 1 Axes>"
      ]
     },
     "metadata": {},
     "output_type": "display_data"
    }
   ],
   "source": [
    "g = sns.boxplot(x=\"bool_cert\", y=\"qt_alteracoes\", palette=\"YlGnBu_d\", data=df)"
   ]
  },
  {
   "cell_type": "code",
   "execution_count": 24,
   "id": "1d5447b4-de7a-4e23-bea5-f5ef8b236b28",
   "metadata": {},
   "outputs": [
    {
     "data": {
      "image/png": "[encoded data removed]",
      "text/plain": [
       "<Figure size 432x288 with 1 Axes>"
      ]
     },
     "metadata": {},
     "output_type": "display_data"
    }
   ],
   "source": [
    "g = sns.boxplot(x=\"bool_cert\", y=\"avaliacao\", palette=\"YlGnBu_d\", data=df)"
   ]
  },
  {
   "cell_type": "code",
   "execution_count": 27,
   "id": "3feb1640-7219-43a2-96f3-dabb4378f689",
   "metadata": {},
   "outputs": [
    {
     "data": {
      "image/png": "[encoded data removed]",
      "text/plain": [
       "<Figure size 432x288 with 1 Axes>"
      ]
     },
     "metadata": {},
     "output_type": "display_data"
    }
   ],
   "source": [
    "g = sns.barplot(x=\"tam_equipe\", y=\"avaliacao\", palette=\"YlGnBu_d\", data=df)"
   ]
  },
  {
   "cell_type": "code",
   "execution_count": 9,
   "id": "da76c755-e7bc-4663-9276-cc953540d516",
   "metadata": {},
   "outputs": [],
   "source": [
    "from scipy import stats"
   ]
  },
  {
   "cell_type": "code",
   "execution_count": 67,
   "id": "e6e29431-50ca-46fc-a1cd-2cf0001b1c24",
   "metadata": {},
   "outputs": [],
   "source": [
    "certificado = list(df.query(\"bool_cert == 1\")[\"avaliacao\"])\n",
    "nao_certificado = list(df.query(\"bool_cert == 0\")[\"avaliacao\"])"
   ]
  },
  {
   "cell_type": "code",
   "execution_count": 68,
   "id": "289bbb72-29b8-43dd-a39a-b467f8ce4eea",
   "metadata": {},
   "outputs": [],
   "source": [
    "t_value,p_value = stats.ttest_ind(certificado,nao_certificado)"
   ]
  },
  {
   "cell_type": "code",
   "execution_count": 69,
   "id": "32f44fdf-4be8-4ea9-8241-f0d7b0a23df4",
   "metadata": {},
   "outputs": [
    {
     "data": {
      "text/plain": [
       "4.426563413593539"
      ]
     },
     "execution_count": 69,
     "metadata": {},
     "output_type": "execute_result"
    }
   ],
   "source": [
    "t_value"
   ]
  },
  {
   "cell_type": "code",
   "execution_count": 70,
   "id": "64ef3cfc-9dc4-4f1c-810c-584d8ba86028",
   "metadata": {},
   "outputs": [
    {
     "data": {
      "text/plain": [
       "2.45e-05"
      ]
     },
     "execution_count": 70,
     "metadata": {},
     "output_type": "execute_result"
    }
   ],
   "source": [
    "round(p_value,7)"
   ]
  },
  {
   "cell_type": "code",
   "execution_count": 79,
   "id": "a6ae47f8-87cb-4c51-8cdf-9fb42bdd0a2b",
   "metadata": {},
   "outputs": [
    {
     "data": {
      "image/png": "[encoded data removed]",
      "text/plain": [
       "<Figure size 432x288 with 1 Axes>"
      ]
     },
     "metadata": {},
     "output_type": "display_data"
    }
   ],
   "source": [
    "# plotting first histogram\n",
    "plt.hist(certificado, label='Certificado', alpha=.7, edgecolor='blue')\n",
    "  \n",
    "# plotting second histogram\n",
    "plt.hist(nao_certificado, label='Não certificado', alpha=0.7, edgecolor='green')\n",
    "plt.legend()\n",
    "  \n",
    "# Showing the plot using plt.show()\n",
    "plt.show()"
   ]
  },
  {
   "cell_type": "code",
   "execution_count": 80,
   "id": "854d18ef-07c2-4f54-9962-aa78fc01a92b",
   "metadata": {},
   "outputs": [],
   "source": [
    "certificado = list(df.query(\"bool_cert == 1\")[\"qt_falhas\"])\n",
    "nao_certificado = list(df.query(\"bool_cert == 0\")[\"qt_falhas\"])"
   ]
  },
  {
   "cell_type": "code",
   "execution_count": 81,
   "id": "feffd213-1ebf-460b-8e7e-21fab1fe9d52",
   "metadata": {},
   "outputs": [],
   "source": [
    "t_value,p_value = stats.ttest_ind(certificado,nao_certificado)"
   ]
  },
  {
   "cell_type": "code",
   "execution_count": 82,
   "id": "61981549-6366-447b-bb5a-3ca74999ca38",
   "metadata": {},
   "outputs": [
    {
     "data": {
      "text/plain": [
       "-3.8645546629183123"
      ]
     },
     "execution_count": 82,
     "metadata": {},
     "output_type": "execute_result"
    }
   ],
   "source": [
    "t_value"
   ]
  },
  {
   "cell_type": "code",
   "execution_count": 83,
   "id": "bafa1721-7a09-4d55-83ba-3543f45ffa6c",
   "metadata": {},
   "outputs": [
    {
     "data": {
      "text/plain": [
       "0.0001979069782280366"
      ]
     },
     "execution_count": 83,
     "metadata": {},
     "output_type": "execute_result"
    }
   ],
   "source": [
    "p_value"
   ]
  },
  {
   "cell_type": "code",
   "execution_count": 84,
   "id": "41295548-36e2-4eb3-aab6-80c14f8c8cd0",
   "metadata": {},
   "outputs": [
    {
     "data": {
      "image/png": "[encoded data removed]",
      "text/plain": [
       "<Figure size 432x288 with 1 Axes>"
      ]
     },
     "metadata": {},
     "output_type": "display_data"
    }
   ],
   "source": [
    "# plotting first histogram\n",
    "plt.hist(certificado, label='Certificado', alpha=.7, edgecolor='blue')\n",
    "  \n",
    "# plotting second histogram\n",
    "plt.hist(nao_certificado, label='Não certificado', alpha=0.7, edgecolor='green')\n",
    "plt.legend()\n",
    "  \n",
    "# Showing the plot using plt.show()\n",
    "plt.show()"
   ]
  },
  {
   "cell_type": "code",
   "execution_count": 57,
   "id": "0f73ced0-d5fe-4622-baf4-9569202462c6",
   "metadata": {},
   "outputs": [],
   "source": [
    "certificado = list(df.query(\"bool_cert == 1\")[\"qt_alteracoes\"])\n",
    "nao_certificado = list(df.query(\"bool_cert == 0\")[\"qt_alteracoes\"])"
   ]
  },
  {
   "cell_type": "code",
   "execution_count": 58,
   "id": "8aca380a-3141-49e4-b691-193159f14023",
   "metadata": {},
   "outputs": [],
   "source": [
    "t_value,p_value = stats.ttest_ind(certificado,nao_certificado)"
   ]
  },
  {
   "cell_type": "code",
   "execution_count": 59,
   "id": "79df94ce-abc4-4326-934d-876748494ed4",
   "metadata": {},
   "outputs": [
    {
     "data": {
      "text/plain": [
       "-1.7567946930826068"
      ]
     },
     "execution_count": 59,
     "metadata": {},
     "output_type": "execute_result"
    }
   ],
   "source": [
    "t_value"
   ]
  },
  {
   "cell_type": "code",
   "execution_count": 60,
   "id": "be4f053f-7091-41cb-8808-b8a73dd5f93b",
   "metadata": {},
   "outputs": [
    {
     "data": {
      "text/plain": [
       "0.08201374171596225"
      ]
     },
     "execution_count": 60,
     "metadata": {},
     "output_type": "execute_result"
    }
   ],
   "source": [
    "p_value"
   ]
  },
  {
   "cell_type": "code",
   "execution_count": 79,
   "id": "6643816e-3df5-4a98-8769-768ff7a6fa89",
   "metadata": {},
   "outputs": [
    {
     "data": {
      "image/png": "[encoded data removed]",
      "text/plain": [
       "<Figure size 432x288 with 1 Axes>"
      ]
     },
     "metadata": {},
     "output_type": "display_data"
    }
   ],
   "source": [
    "g = sns.boxplot(x=\"bool_mtd_classica\", y=\"avaliacao\", palette=\"YlGnBu_d\", data=df)"
   ]
  },
  {
   "cell_type": "code",
   "execution_count": 2,
   "id": "f6d5f427-36bf-474a-83b2-4a7b35950591",
   "metadata": {},
   "outputs": [],
   "source": [
    "# teste jp"
   ]
  },
  {
   "cell_type": "code",
   "execution_count": 103,
   "id": "4df6db45-41b8-4e71-a4f3-e860666f1671",
   "metadata": {},
   "outputs": [],
   "source": [
    "def p_value_from_t_test(column: str, metric_column: str) -> str:\n",
    "    g1 = list(df.query(f\"{column} == 1\")[metric_column])\n",
    "    g2 = list(df.query(f\"{column} == 0\")[metric_column])\n",
    "    return float(\"{:.8f}\".format(float(stats.ttest_ind(g1,g2)[1]))) # p_value"
   ]
  },
  {
   "cell_type": "code",
   "execution_count": 104,
   "id": "049b335f-f48a-4b97-a269-ab489d619a5f",
   "metadata": {},
   "outputs": [],
   "source": [
    "bool_columns = [col for col in df.columns if \"bool\" in col]"
   ]
  },
  {
   "cell_type": "code",
   "execution_count": 105,
   "id": "94bdf04f-09ff-4797-93df-04b8192c5dd9",
   "metadata": {},
   "outputs": [],
   "source": [
    "metrics = [\"avaliacao\", \"qt_falhas\", \"qt_alteracoes\"]"
   ]
  },
  {
   "cell_type": "code",
   "execution_count": 106,
   "id": "9a744721-a5af-4709-910c-e11dab7a1ee1",
   "metadata": {},
   "outputs": [],
   "source": [
    "p_dataset = []\n",
    "\n",
    "for col in bool_columns:\n",
    "    p_dataset.append([col] + [p_value_from_t_test(col, metric) for metric in metrics])"
   ]
  },
  {
   "cell_type": "code",
   "execution_count": 107,
   "id": "b788d66b-0e47-4866-bb61-c0f25aba3a18",
   "metadata": {},
   "outputs": [
    {
     "data": {
      "image/png": "[encoded data removed]",
      "text/plain": [
       "<Figure size 432x288 with 1 Axes>"
      ]
     },
     "metadata": {},
     "output_type": "display_data"
    }
   ],
   "source": [
    "g = sns.boxplot(x=\"bool_falha_gst_lid\", y=\"avaliacao\", palette=\"YlGnBu_d\", data=df)"
   ]
  },
  {
   "cell_type": "code",
   "execution_count": 121,
   "id": "c11046f6-3a50-44c3-b839-2b31873aab6f",
   "metadata": {},
   "outputs": [
    {
     "data": {
      "text/plain": [
       "MultiIndex([('p_value',        'column'),\n",
       "            ('p_value',     'avaliacao'),\n",
       "            ('p_value',     'qt_falhas'),\n",
       "            ('p_value', 'qt_alteracoes')],\n",
       "           )"
      ]
     },
     "execution_count": 121,
     "metadata": {},
     "output_type": "execute_result"
    }
   ],
   "source": [
    "pd.MultiIndex.from_product([[\"p_value\"], [\"column\"] + metrics])"
   ]
  },
  {
   "cell_type": "code",
   "execution_count": 122,
   "id": "1185eaae-4fdd-4597-9cfd-81a288f26f02",
   "metadata": {},
   "outputs": [],
   "source": [
    "df_p_values = pd.DataFrame(data=p_dataset, columns=pd.MultiIndex.from_product([[\"p_value\"], [\"column\"] + metrics]))"
   ]
  },
  {
   "cell_type": "code",
   "execution_count": 123,
   "id": "91ca2d66-6cb7-4d20-ab48-cc387ec026f1",
   "metadata": {},
   "outputs": [
    {
     "data": {
      "text/html": [
       "<div>\n",
       "<style scoped>\n",
       "    .dataframe tbody tr th:only-of-type {\n",
       "        vertical-align: middle;\n",
       "    }\n",
       "\n",
       "    .dataframe tbody tr th {\n",
       "        vertical-align: top;\n",
       "    }\n",
       "\n",
       "    .dataframe thead tr th {\n",
       "        text-align: left;\n",
       "    }\n",
       "</style>\n",
       "<table border=\"1\" class=\"dataframe\">\n",
       "  <thead>\n",
       "    <tr>\n",
       "      <th></th>\n",
       "      <th colspan=\"4\" halign=\"left\">p_value</th>\n",
       "    </tr>\n",
       "    <tr>\n",
       "      <th></th>\n",
       "      <th>column</th>\n",
       "      <th>avaliacao</th>\n",
       "      <th>qt_falhas</th>\n",
       "      <th>qt_alteracoes</th>\n",
       "    </tr>\n",
       "  </thead>\n",
       "  <tbody>\n",
       "    <tr>\n",
       "      <th>0</th>\n",
       "      <td>bool_cert</td>\n",
       "      <td>2.446000e-05</td>\n",
       "      <td>0.000198</td>\n",
       "      <td>0.082014</td>\n",
       "    </tr>\n",
       "    <tr>\n",
       "      <th>1</th>\n",
       "      <td>bool_experiencia</td>\n",
       "      <td>4.703000e-05</td>\n",
       "      <td>0.003859</td>\n",
       "      <td>0.073407</td>\n",
       "    </tr>\n",
       "    <tr>\n",
       "      <th>2</th>\n",
       "      <td>bool_mtd_scrum</td>\n",
       "      <td>2.030000e-06</td>\n",
       "      <td>0.000092</td>\n",
       "      <td>0.244604</td>\n",
       "    </tr>\n",
       "    <tr>\n",
       "      <th>3</th>\n",
       "      <td>bool_mtd_kanban</td>\n",
       "      <td>1.246566e-02</td>\n",
       "      <td>0.070258</td>\n",
       "      <td>0.766843</td>\n",
       "    </tr>\n",
       "    <tr>\n",
       "      <th>4</th>\n",
       "      <td>bool_mtd_okr</td>\n",
       "      <td>8.051881e-01</td>\n",
       "      <td>0.541110</td>\n",
       "      <td>0.079323</td>\n",
       "    </tr>\n",
       "    <tr>\n",
       "      <th>5</th>\n",
       "      <td>bool_mtd_safe</td>\n",
       "      <td>4.047502e-01</td>\n",
       "      <td>0.880066</td>\n",
       "      <td>0.553592</td>\n",
       "    </tr>\n",
       "    <tr>\n",
       "      <th>6</th>\n",
       "      <td>bool_mtd_classica</td>\n",
       "      <td>5.505000e-05</td>\n",
       "      <td>0.002761</td>\n",
       "      <td>0.728921</td>\n",
       "    </tr>\n",
       "    <tr>\n",
       "      <th>7</th>\n",
       "      <td>bool_src_sql</td>\n",
       "      <td>4.915306e-01</td>\n",
       "      <td>0.140301</td>\n",
       "      <td>0.845518</td>\n",
       "    </tr>\n",
       "    <tr>\n",
       "      <th>8</th>\n",
       "      <td>bool_src_api</td>\n",
       "      <td>1.479293e-01</td>\n",
       "      <td>0.846554</td>\n",
       "      <td>0.907557</td>\n",
       "    </tr>\n",
       "    <tr>\n",
       "      <th>9</th>\n",
       "      <td>bool_src_nosql</td>\n",
       "      <td>2.879463e-01</td>\n",
       "      <td>0.813740</td>\n",
       "      <td>0.360658</td>\n",
       "    </tr>\n",
       "    <tr>\n",
       "      <th>10</th>\n",
       "      <td>bool_src_outros</td>\n",
       "      <td>4.167631e-01</td>\n",
       "      <td>0.520587</td>\n",
       "      <td>0.269558</td>\n",
       "    </tr>\n",
       "    <tr>\n",
       "      <th>11</th>\n",
       "      <td>bool_alt_eqp</td>\n",
       "      <td>5.157980e-03</td>\n",
       "      <td>0.001689</td>\n",
       "      <td>0.000000</td>\n",
       "    </tr>\n",
       "    <tr>\n",
       "      <th>12</th>\n",
       "      <td>bool_alt_bd</td>\n",
       "      <td>6.818500e-04</td>\n",
       "      <td>0.015553</td>\n",
       "      <td>0.000000</td>\n",
       "    </tr>\n",
       "    <tr>\n",
       "      <th>13</th>\n",
       "      <td>bool_alt_sol</td>\n",
       "      <td>NaN</td>\n",
       "      <td>NaN</td>\n",
       "      <td>NaN</td>\n",
       "    </tr>\n",
       "    <tr>\n",
       "      <th>14</th>\n",
       "      <td>bool_alt_custo</td>\n",
       "      <td>1.390827e-02</td>\n",
       "      <td>0.001375</td>\n",
       "      <td>0.000000</td>\n",
       "    </tr>\n",
       "    <tr>\n",
       "      <th>15</th>\n",
       "      <td>bool_alt_tec</td>\n",
       "      <td>5.099689e-02</td>\n",
       "      <td>0.078580</td>\n",
       "      <td>0.000000</td>\n",
       "    </tr>\n",
       "    <tr>\n",
       "      <th>16</th>\n",
       "      <td>bool_falha_gov</td>\n",
       "      <td>1.678540e-03</td>\n",
       "      <td>0.000000</td>\n",
       "      <td>0.745762</td>\n",
       "    </tr>\n",
       "    <tr>\n",
       "      <th>17</th>\n",
       "      <td>bool_falha_dev</td>\n",
       "      <td>1.146000e-05</td>\n",
       "      <td>0.000000</td>\n",
       "      <td>0.008676</td>\n",
       "    </tr>\n",
       "    <tr>\n",
       "      <th>18</th>\n",
       "      <td>bool_falha_aus_info</td>\n",
       "      <td>NaN</td>\n",
       "      <td>NaN</td>\n",
       "      <td>NaN</td>\n",
       "    </tr>\n",
       "    <tr>\n",
       "      <th>19</th>\n",
       "      <td>bool_falha_pln_custo</td>\n",
       "      <td>3.259500e-04</td>\n",
       "      <td>0.000000</td>\n",
       "      <td>0.078389</td>\n",
       "    </tr>\n",
       "    <tr>\n",
       "      <th>20</th>\n",
       "      <td>bool_falha_gst_lid</td>\n",
       "      <td>7.800000e-07</td>\n",
       "      <td>0.000000</td>\n",
       "      <td>0.001402</td>\n",
       "    </tr>\n",
       "    <tr>\n",
       "      <th>21</th>\n",
       "      <td>bool_falha_usu</td>\n",
       "      <td>2.150000e-06</td>\n",
       "      <td>0.000000</td>\n",
       "      <td>0.000223</td>\n",
       "    </tr>\n",
       "  </tbody>\n",
       "</table>\n",
       "</div>"
      ],
      "text/plain": [
       "                 p_value                                      \n",
       "                  column     avaliacao qt_falhas qt_alteracoes\n",
       "0              bool_cert  2.446000e-05  0.000198      0.082014\n",
       "1       bool_experiencia  4.703000e-05  0.003859      0.073407\n",
       "2         bool_mtd_scrum  2.030000e-06  0.000092      0.244604\n",
       "3        bool_mtd_kanban  1.246566e-02  0.070258      0.766843\n",
       "4           bool_mtd_okr  8.051881e-01  0.541110      0.079323\n",
       "5          bool_mtd_safe  4.047502e-01  0.880066      0.553592\n",
       "6      bool_mtd_classica  5.505000e-05  0.002761      0.728921\n",
       "7           bool_src_sql  4.915306e-01  0.140301      0.845518\n",
       "8           bool_src_api  1.479293e-01  0.846554      0.907557\n",
       "9         bool_src_nosql  2.879463e-01  0.813740      0.360658\n",
       "10       bool_src_outros  4.167631e-01  0.520587      0.269558\n",
       "11          bool_alt_eqp  5.157980e-03  0.001689      0.000000\n",
       "12           bool_alt_bd  6.818500e-04  0.015553      0.000000\n",
       "13          bool_alt_sol           NaN       NaN           NaN\n",
       "14        bool_alt_custo  1.390827e-02  0.001375      0.000000\n",
       "15          bool_alt_tec  5.099689e-02  0.078580      0.000000\n",
       "16        bool_falha_gov  1.678540e-03  0.000000      0.745762\n",
       "17        bool_falha_dev  1.146000e-05  0.000000      0.008676\n",
       "18   bool_falha_aus_info           NaN       NaN           NaN\n",
       "19  bool_falha_pln_custo  3.259500e-04  0.000000      0.078389\n",
       "20    bool_falha_gst_lid  7.800000e-07  0.000000      0.001402\n",
       "21        bool_falha_usu  2.150000e-06  0.000000      0.000223"
      ]
     },
     "execution_count": 123,
     "metadata": {},
     "output_type": "execute_result"
    }
   ],
   "source": [
    "df_p_values[[\"p_value\"]]"
   ]
  },
  {
   "cell_type": "code",
   "execution_count": 132,
   "id": "3859016b-57a4-4f98-bc68-77303ac3b52f",
   "metadata": {},
   "outputs": [
    {
     "data": {
      "text/html": [
       "<style type=\"text/css\">\n",
       "#T_b8dd7_row0_col0, #T_b8dd7_row0_col1, #T_b8dd7_row1_col0, #T_b8dd7_row1_col1, #T_b8dd7_row2_col0, #T_b8dd7_row2_col1, #T_b8dd7_row3_col0, #T_b8dd7_row6_col0, #T_b8dd7_row6_col1, #T_b8dd7_row11_col0, #T_b8dd7_row11_col1, #T_b8dd7_row11_col2, #T_b8dd7_row12_col0, #T_b8dd7_row12_col1, #T_b8dd7_row12_col2, #T_b8dd7_row13_col0, #T_b8dd7_row13_col1, #T_b8dd7_row13_col2, #T_b8dd7_row14_col0, #T_b8dd7_row14_col1, #T_b8dd7_row14_col2, #T_b8dd7_row15_col2, #T_b8dd7_row16_col0, #T_b8dd7_row16_col1, #T_b8dd7_row17_col0, #T_b8dd7_row17_col1, #T_b8dd7_row17_col2, #T_b8dd7_row18_col0, #T_b8dd7_row18_col1, #T_b8dd7_row18_col2, #T_b8dd7_row19_col0, #T_b8dd7_row19_col1, #T_b8dd7_row20_col0, #T_b8dd7_row20_col1, #T_b8dd7_row20_col2, #T_b8dd7_row21_col0, #T_b8dd7_row21_col1, #T_b8dd7_row21_col2 {\n",
       "  background-color: #FFDEAD;\n",
       "}\n",
       "#T_b8dd7_row0_col2, #T_b8dd7_row1_col2, #T_b8dd7_row2_col2, #T_b8dd7_row3_col1, #T_b8dd7_row3_col2, #T_b8dd7_row4_col0, #T_b8dd7_row4_col1, #T_b8dd7_row4_col2, #T_b8dd7_row5_col0, #T_b8dd7_row5_col1, #T_b8dd7_row5_col2, #T_b8dd7_row6_col2, #T_b8dd7_row7_col0, #T_b8dd7_row7_col1, #T_b8dd7_row7_col2, #T_b8dd7_row8_col0, #T_b8dd7_row8_col1, #T_b8dd7_row8_col2, #T_b8dd7_row9_col0, #T_b8dd7_row9_col1, #T_b8dd7_row9_col2, #T_b8dd7_row10_col0, #T_b8dd7_row10_col1, #T_b8dd7_row10_col2, #T_b8dd7_row15_col0, #T_b8dd7_row15_col1, #T_b8dd7_row16_col2, #T_b8dd7_row19_col2 {\n",
       "  background-color: white;\n",
       "}\n",
       "</style>\n",
       "<table id=\"T_b8dd7_\">\n",
       "  <thead>\n",
       "    <tr>\n",
       "      <th class=\"blank level0\" >&nbsp;</th>\n",
       "      <th class=\"col_heading level0 col0\" >avaliacao</th>\n",
       "      <th class=\"col_heading level0 col1\" >qt_falhas</th>\n",
       "      <th class=\"col_heading level0 col2\" >qt_alteracoes</th>\n",
       "    </tr>\n",
       "  </thead>\n",
       "  <tbody>\n",
       "    <tr>\n",
       "      <th id=\"T_b8dd7_level0_row0\" class=\"row_heading level0 row0\" >0</th>\n",
       "      <td id=\"T_b8dd7_row0_col0\" class=\"data row0 col0\" >0.000024</td>\n",
       "      <td id=\"T_b8dd7_row0_col1\" class=\"data row0 col1\" >0.000198</td>\n",
       "      <td id=\"T_b8dd7_row0_col2\" class=\"data row0 col2\" >0.082014</td>\n",
       "    </tr>\n",
       "    <tr>\n",
       "      <th id=\"T_b8dd7_level0_row1\" class=\"row_heading level0 row1\" >1</th>\n",
       "      <td id=\"T_b8dd7_row1_col0\" class=\"data row1 col0\" >0.000047</td>\n",
       "      <td id=\"T_b8dd7_row1_col1\" class=\"data row1 col1\" >0.003859</td>\n",
       "      <td id=\"T_b8dd7_row1_col2\" class=\"data row1 col2\" >0.073407</td>\n",
       "    </tr>\n",
       "    <tr>\n",
       "      <th id=\"T_b8dd7_level0_row2\" class=\"row_heading level0 row2\" >2</th>\n",
       "      <td id=\"T_b8dd7_row2_col0\" class=\"data row2 col0\" >0.000002</td>\n",
       "      <td id=\"T_b8dd7_row2_col1\" class=\"data row2 col1\" >0.000092</td>\n",
       "      <td id=\"T_b8dd7_row2_col2\" class=\"data row2 col2\" >0.244604</td>\n",
       "    </tr>\n",
       "    <tr>\n",
       "      <th id=\"T_b8dd7_level0_row3\" class=\"row_heading level0 row3\" >3</th>\n",
       "      <td id=\"T_b8dd7_row3_col0\" class=\"data row3 col0\" >0.012466</td>\n",
       "      <td id=\"T_b8dd7_row3_col1\" class=\"data row3 col1\" >0.070258</td>\n",
       "      <td id=\"T_b8dd7_row3_col2\" class=\"data row3 col2\" >0.766843</td>\n",
       "    </tr>\n",
       "    <tr>\n",
       "      <th id=\"T_b8dd7_level0_row4\" class=\"row_heading level0 row4\" >4</th>\n",
       "      <td id=\"T_b8dd7_row4_col0\" class=\"data row4 col0\" >0.805188</td>\n",
       "      <td id=\"T_b8dd7_row4_col1\" class=\"data row4 col1\" >0.541110</td>\n",
       "      <td id=\"T_b8dd7_row4_col2\" class=\"data row4 col2\" >0.079323</td>\n",
       "    </tr>\n",
       "    <tr>\n",
       "      <th id=\"T_b8dd7_level0_row5\" class=\"row_heading level0 row5\" >5</th>\n",
       "      <td id=\"T_b8dd7_row5_col0\" class=\"data row5 col0\" >0.404750</td>\n",
       "      <td id=\"T_b8dd7_row5_col1\" class=\"data row5 col1\" >0.880066</td>\n",
       "      <td id=\"T_b8dd7_row5_col2\" class=\"data row5 col2\" >0.553592</td>\n",
       "    </tr>\n",
       "    <tr>\n",
       "      <th id=\"T_b8dd7_level0_row6\" class=\"row_heading level0 row6\" >6</th>\n",
       "      <td id=\"T_b8dd7_row6_col0\" class=\"data row6 col0\" >0.000055</td>\n",
       "      <td id=\"T_b8dd7_row6_col1\" class=\"data row6 col1\" >0.002761</td>\n",
       "      <td id=\"T_b8dd7_row6_col2\" class=\"data row6 col2\" >0.728921</td>\n",
       "    </tr>\n",
       "    <tr>\n",
       "      <th id=\"T_b8dd7_level0_row7\" class=\"row_heading level0 row7\" >7</th>\n",
       "      <td id=\"T_b8dd7_row7_col0\" class=\"data row7 col0\" >0.491531</td>\n",
       "      <td id=\"T_b8dd7_row7_col1\" class=\"data row7 col1\" >0.140301</td>\n",
       "      <td id=\"T_b8dd7_row7_col2\" class=\"data row7 col2\" >0.845518</td>\n",
       "    </tr>\n",
       "    <tr>\n",
       "      <th id=\"T_b8dd7_level0_row8\" class=\"row_heading level0 row8\" >8</th>\n",
       "      <td id=\"T_b8dd7_row8_col0\" class=\"data row8 col0\" >0.147929</td>\n",
       "      <td id=\"T_b8dd7_row8_col1\" class=\"data row8 col1\" >0.846554</td>\n",
       "      <td id=\"T_b8dd7_row8_col2\" class=\"data row8 col2\" >0.907557</td>\n",
       "    </tr>\n",
       "    <tr>\n",
       "      <th id=\"T_b8dd7_level0_row9\" class=\"row_heading level0 row9\" >9</th>\n",
       "      <td id=\"T_b8dd7_row9_col0\" class=\"data row9 col0\" >0.287946</td>\n",
       "      <td id=\"T_b8dd7_row9_col1\" class=\"data row9 col1\" >0.813740</td>\n",
       "      <td id=\"T_b8dd7_row9_col2\" class=\"data row9 col2\" >0.360658</td>\n",
       "    </tr>\n",
       "    <tr>\n",
       "      <th id=\"T_b8dd7_level0_row10\" class=\"row_heading level0 row10\" >10</th>\n",
       "      <td id=\"T_b8dd7_row10_col0\" class=\"data row10 col0\" >0.416763</td>\n",
       "      <td id=\"T_b8dd7_row10_col1\" class=\"data row10 col1\" >0.520587</td>\n",
       "      <td id=\"T_b8dd7_row10_col2\" class=\"data row10 col2\" >0.269558</td>\n",
       "    </tr>\n",
       "    <tr>\n",
       "      <th id=\"T_b8dd7_level0_row11\" class=\"row_heading level0 row11\" >11</th>\n",
       "      <td id=\"T_b8dd7_row11_col0\" class=\"data row11 col0\" >0.005158</td>\n",
       "      <td id=\"T_b8dd7_row11_col1\" class=\"data row11 col1\" >0.001689</td>\n",
       "      <td id=\"T_b8dd7_row11_col2\" class=\"data row11 col2\" >0.000000</td>\n",
       "    </tr>\n",
       "    <tr>\n",
       "      <th id=\"T_b8dd7_level0_row12\" class=\"row_heading level0 row12\" >12</th>\n",
       "      <td id=\"T_b8dd7_row12_col0\" class=\"data row12 col0\" >0.000682</td>\n",
       "      <td id=\"T_b8dd7_row12_col1\" class=\"data row12 col1\" >0.015553</td>\n",
       "      <td id=\"T_b8dd7_row12_col2\" class=\"data row12 col2\" >0.000000</td>\n",
       "    </tr>\n",
       "    <tr>\n",
       "      <th id=\"T_b8dd7_level0_row13\" class=\"row_heading level0 row13\" >13</th>\n",
       "      <td id=\"T_b8dd7_row13_col0\" class=\"data row13 col0\" >nan</td>\n",
       "      <td id=\"T_b8dd7_row13_col1\" class=\"data row13 col1\" >nan</td>\n",
       "      <td id=\"T_b8dd7_row13_col2\" class=\"data row13 col2\" >nan</td>\n",
       "    </tr>\n",
       "    <tr>\n",
       "      <th id=\"T_b8dd7_level0_row14\" class=\"row_heading level0 row14\" >14</th>\n",
       "      <td id=\"T_b8dd7_row14_col0\" class=\"data row14 col0\" >0.013908</td>\n",
       "      <td id=\"T_b8dd7_row14_col1\" class=\"data row14 col1\" >0.001375</td>\n",
       "      <td id=\"T_b8dd7_row14_col2\" class=\"data row14 col2\" >0.000000</td>\n",
       "    </tr>\n",
       "    <tr>\n",
       "      <th id=\"T_b8dd7_level0_row15\" class=\"row_heading level0 row15\" >15</th>\n",
       "      <td id=\"T_b8dd7_row15_col0\" class=\"data row15 col0\" >0.050997</td>\n",
       "      <td id=\"T_b8dd7_row15_col1\" class=\"data row15 col1\" >0.078580</td>\n",
       "      <td id=\"T_b8dd7_row15_col2\" class=\"data row15 col2\" >0.000000</td>\n",
       "    </tr>\n",
       "    <tr>\n",
       "      <th id=\"T_b8dd7_level0_row16\" class=\"row_heading level0 row16\" >16</th>\n",
       "      <td id=\"T_b8dd7_row16_col0\" class=\"data row16 col0\" >0.001679</td>\n",
       "      <td id=\"T_b8dd7_row16_col1\" class=\"data row16 col1\" >0.000000</td>\n",
       "      <td id=\"T_b8dd7_row16_col2\" class=\"data row16 col2\" >0.745762</td>\n",
       "    </tr>\n",
       "    <tr>\n",
       "      <th id=\"T_b8dd7_level0_row17\" class=\"row_heading level0 row17\" >17</th>\n",
       "      <td id=\"T_b8dd7_row17_col0\" class=\"data row17 col0\" >0.000011</td>\n",
       "      <td id=\"T_b8dd7_row17_col1\" class=\"data row17 col1\" >0.000000</td>\n",
       "      <td id=\"T_b8dd7_row17_col2\" class=\"data row17 col2\" >0.008676</td>\n",
       "    </tr>\n",
       "    <tr>\n",
       "      <th id=\"T_b8dd7_level0_row18\" class=\"row_heading level0 row18\" >18</th>\n",
       "      <td id=\"T_b8dd7_row18_col0\" class=\"data row18 col0\" >nan</td>\n",
       "      <td id=\"T_b8dd7_row18_col1\" class=\"data row18 col1\" >nan</td>\n",
       "      <td id=\"T_b8dd7_row18_col2\" class=\"data row18 col2\" >nan</td>\n",
       "    </tr>\n",
       "    <tr>\n",
       "      <th id=\"T_b8dd7_level0_row19\" class=\"row_heading level0 row19\" >19</th>\n",
       "      <td id=\"T_b8dd7_row19_col0\" class=\"data row19 col0\" >0.000326</td>\n",
       "      <td id=\"T_b8dd7_row19_col1\" class=\"data row19 col1\" >0.000000</td>\n",
       "      <td id=\"T_b8dd7_row19_col2\" class=\"data row19 col2\" >0.078389</td>\n",
       "    </tr>\n",
       "    <tr>\n",
       "      <th id=\"T_b8dd7_level0_row20\" class=\"row_heading level0 row20\" >20</th>\n",
       "      <td id=\"T_b8dd7_row20_col0\" class=\"data row20 col0\" >0.000001</td>\n",
       "      <td id=\"T_b8dd7_row20_col1\" class=\"data row20 col1\" >0.000000</td>\n",
       "      <td id=\"T_b8dd7_row20_col2\" class=\"data row20 col2\" >0.001402</td>\n",
       "    </tr>\n",
       "    <tr>\n",
       "      <th id=\"T_b8dd7_level0_row21\" class=\"row_heading level0 row21\" >21</th>\n",
       "      <td id=\"T_b8dd7_row21_col0\" class=\"data row21 col0\" >0.000002</td>\n",
       "      <td id=\"T_b8dd7_row21_col1\" class=\"data row21 col1\" >0.000000</td>\n",
       "      <td id=\"T_b8dd7_row21_col2\" class=\"data row21 col2\" >0.000223</td>\n",
       "    </tr>\n",
       "  </tbody>\n",
       "</table>\n"
      ],
      "text/plain": [
       "<pandas.io.formats.style.Styler at 0x16a0800d0>"
      ]
     },
     "execution_count": 132,
     "metadata": {},
     "output_type": "execute_result"
    }
   ],
   "source": [
    "df_p_values[\"p_value\"][metrics].style.applymap(lambda x: \"background-color: white\" if float(x) > 0.05 else \"background-color: #FFDEAD\")"
   ]
  },
  {
   "cell_type": "code",
   "execution_count": null,
   "id": "322ce854-fe70-4300-9c88-f59c55db915c",
   "metadata": {},
   "outputs": [],
   "source": []
  }
 ],
 "metadata": {
  "kernelspec": {
   "display_name": "Python 3 (ipykernel)",
   "language": "python",
   "name": "python3"
  },
  "language_info": {
   "codemirror_mode": {
    "name": "ipython",
    "version": 3
   },
   "file_extension": ".py",
   "mimetype": "text/x-python",
   "name": "python",
   "nbconvert_exporter": "python",
   "pygments_lexer": "ipython3",
   "version": "3.10.2"
  }
 },
 "nbformat": 4,
 "nbformat_minor": 5
}
