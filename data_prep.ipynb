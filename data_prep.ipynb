{
 "cells": [
  {
   "cell_type": "markdown",
   "id": "77bdbfc7-0afe-4079-af32-0d2ef10294df",
   "metadata": {
    "tags": []
   },
   "source": [
    "# Data prep notebook\n",
    "\n",
    "Aims to collect the raw data, apply transformations for better usage and then deliver a refined dataset ready for analysis"
   ]
  },
  {
   "cell_type": "code",
   "execution_count": 2,
   "id": "8ea0afb8-b298-4101-820d-e569f42ee0fc",
   "metadata": {},
   "outputs": [],
   "source": [
    "import pandas as pd\n",
    "import json\n",
    "pd.set_option('display.max_columns', None)"
   ]
  },
  {
   "cell_type": "markdown",
   "id": "a7d53b4b-4996-4c01-9cb1-83b82737d899",
   "metadata": {
    "tags": []
   },
   "source": [
    "## raw"
   ]
  },
  {
   "cell_type": "code",
   "execution_count": 3,
   "id": "1dce8ab3-4d3b-4076-a57f-522a1e16ed8b",
   "metadata": {},
   "outputs": [],
   "source": [
    "df = pd.read_csv(\"dataset/raw.tsv\", sep='\\t')\n",
    "\n",
    "# removing dirt\n",
    "df = df[df.columns[:-4]] "
   ]
  },
  {
   "cell_type": "markdown",
   "id": "e2a9cfac-c50d-4424-b533-bc9285e18fa0",
   "metadata": {},
   "source": [
    "## data catalog"
   ]
  },
  {
   "cell_type": "code",
   "execution_count": 4,
   "id": "88bddd00-ca4a-4648-aaf1-5b93af10e743",
   "metadata": {},
   "outputs": [],
   "source": [
    "# Opening JSON file\n",
    "with open('catalogo.json') as arquivo:\n",
    "    catalogo = json.load(arquivo)[\"schema\"]"
   ]
  },
  {
   "cell_type": "markdown",
   "id": "d3685f70-72d1-4d53-b4fa-3df3a122c521",
   "metadata": {},
   "source": [
    "## processing"
   ]
  },
  {
   "cell_type": "code",
   "execution_count": 5,
   "id": "7122ae1d-daa3-4eeb-82b8-710a101e7bc5",
   "metadata": {
    "tags": []
   },
   "outputs": [
    {
     "name": "stderr",
     "output_type": "stream",
     "text": [
      "/var/folders/wy/6nbc6l7s7d3bzmvzj3rkssfm0000gp/T/ipykernel_41217/3994124315.py:7: UserWarning: This pattern has match groups. To actually get the groups, use str.extract.\n",
      "  df.loc[df[item[\"survey_question\"]].str.contains(item[\"apply_contains\"], na=False), item[\"column\"]] = 1\n"
     ]
    }
   ],
   "source": [
    "nomes = dict()\n",
    "\n",
    "for item in catalogo:\n",
    "    # creating new boolean columns based on string contains  \n",
    "    if \"apply_contains\" in item:\n",
    "        if \"qt\" not in item[\"column\"]:\n",
    "            df.loc[df[item[\"survey_question\"]].str.contains(item[\"apply_contains\"], na=False), item[\"column\"]] = 1\n",
    "    \n",
    "    # creating dict for renaming columns\n",
    "    elif \"qt\" not in item[\"column\"]:\n",
    "        nomes |= {item[\"survey_question\"]:item[\"column\"]}\n",
    "\n",
    "# drop unecessary columns or the ones which is already processed\n",
    "df.drop('Marque quais metodologias ágeis foram utilizadas no projeto de desenvolvimento da solução de Data Lake na nuvem em sua empresa', axis=1, inplace=True)\n",
    "df.drop('Houve alteração de escopo no projeto?', axis=1, inplace=True)\n",
    "df.drop('Quais foram os tipos de dados solicitados para ingestão?', axis=1, inplace=True)\n",
    "df.drop('Indique abaixo quais foram as principais falhas que ocorreram no desenvolvimento da solução de Data Lake na nuvem em sua empresa', axis=1, inplace=True)\n",
    "df.drop('Comentários', axis=1, inplace=True)\n",
    "df.drop('Qual é o tamanho aproximado do projeto em armazenamento? (Ex resposta: 130GB)',   axis=1, inplace=True)\n",
    "df.drop('Houve ingestão de streaming de dados?', axis=1, inplace=True)\n",
    "df.drop('Se você respondeu SIM para a questão anterior, por gentileza, indique abaixo quais alterações ocorreram no escopo do projeto.', axis=1, inplace=True)\n",
    "df.drop('Carimbo de data/hora', axis=1, inplace=True)\n",
    "\n",
    "# saying again... renaming\n",
    "nomes |= {'Projetos de big data possuem 3 desafios principais: Volume, Velocidade, Variedade. Para demonstrar que você está respondendo esse questionário com atenção, por favor, selecione apenas a opção “Velocidade” dentre as opções abaixo: ':'teste_atencao'}\n",
    "nomes |= {'A empresa que você trabalha está ou esteve envolvida em um projeto para desenvolver uma solução de DATA LAKE?':'trabalhou_com_dl'}\n",
    "df = df.rename(columns=nomes)"
   ]
  },
  {
   "cell_type": "code",
   "execution_count": 6,
   "id": "d43593d2-1a05-46d2-ba6b-66ad254dd3d9",
   "metadata": {},
   "outputs": [],
   "source": [
    "df.loc[df['maior_desafio'].str.contains('Segurança', na=False),'maior_desafio'] = 'Variedade'\n",
    "df.loc[df['maior_desafio'].str.contains('Complexidade', na=False),'maior_desafio'] = 'Velocidade'\n",
    "df.loc[df['maior_desafio'].str.contains('Disponibilidade', na=False),'maior_desafio'] = 'Velocidade'\n",
    "df.loc[df['maior_desafio'].str.contains('Recorrência', na=False),'maior_desafio'] = 'Velocidade'"
   ]
  },
  {
   "cell_type": "markdown",
   "id": "e46e4f6e-42fa-4dac-b961-37fa8f2b14a8",
   "metadata": {},
   "source": [
    "#### simplifying values"
   ]
  },
  {
   "cell_type": "code",
   "execution_count": 7,
   "id": "e65a2d3c-4140-43bc-b625-38c0a41a6c43",
   "metadata": {},
   "outputs": [],
   "source": [
    "## Cloud provider\n",
    "df.replace(\n",
    "    to_replace={\n",
    "        \"Amazon Web Services\":\"AWS\",\n",
    "        \"Microsoft Azure\":\"Azure\",\n",
    "        \"Google Cloud Plataform\":\"GCP\"\n",
    "    }, \n",
    "    inplace=True\n",
    ")\n",
    "\n",
    "\n",
    "## Porte da empresa\n",
    "df.replace(\n",
    "    to_replace={\n",
    "    \"Empresa de Grande Porte (500 funcionários ou mais)\":\"]500,+∞]\",\n",
    "    \"Empresa de Pequeno Porte (até 100 funcionários)\":\"]100,500]\",\n",
    "    \"Empresa de Médio Porte (até 500 funcionários)\":\"]20,50]\",\n",
    "    \"Microempresa (até 20 funcionários)\":\"[0,20]\"\n",
    "    },\n",
    "    inplace=True\n",
    ")\n",
    "\n",
    "## tamanho do investimento \n",
    "df.replace(\n",
    "    to_replace={\n",
    "        \"Acima de R$ 100.000,01\":\"]100,+∞]\",\n",
    "        \"Não sei responder essa informação\":\"N/A\",\n",
    "        \"Entre R$ 50.000,01 e R$ 100.000,00\":\"]50,100]\",\n",
    "        \"Entre R$ 20.000,01 e R$ 30.000,00\":\"]20,30]\",\n",
    "        \"Entre R$ 10.000,01 e R$ 20.000,00\":\"]10,20]\",\n",
    "        \"Entre R$ 30.000,01 e R$ 50.000,00\":\"]30,50]\",\n",
    "        \"Abaixo de R$ 10.000,00\":\"[0,10]\"\n",
    "    },\n",
    "    inplace=True\n",
    ")\n",
    "\n",
    "## Tempo do projeto\n",
    "df.replace(\n",
    "    to_replace={\n",
    "        \"3 a 6 meses\":\"]3,6]\",\n",
    "        \"6 a 12 meses\":\"]6,12]\",\n",
    "        \"Até 3 meses\":\"[0,3]\",\n",
    "        \"12 a 18 meses\":\"]12,18]\",\n",
    "        \"18 meses ou mais\":\"]18,+∞]\"\n",
    "    },\n",
    "    inplace=True\n",
    ")\n",
    "\n",
    "# Tamanho da equipe\n",
    "df.replace(\n",
    "    to_replace={\n",
    "        \"35 pessoas ou mais\":\"]35,+∞]\",\n",
    "        \"5 a 10 pessoas\":\"]5,10]\",\n",
    "        \"11 a 20 pessoas\":\"]10,20]\",\n",
    "        \"Até 5 pessoas\":\"[0,5]\",\n",
    "        \"21 a 35 pessoas\":\"]20,35]\"\n",
    "    },\n",
    "    inplace=True\n",
    ")\n",
    "\n",
    "# Segmento\n",
    "df.replace(\n",
    "    to_replace={\n",
    "        \"Ambos\":\"B2ALL\",\n",
    "        \"B2B (Empresas negociam com outras empresas)\":\"B2B\",\n",
    "        \"B2C (Empresas negociam com consumidores finais)\":\"B2C\"\n",
    "    },\n",
    "    inplace=True\n",
    ")\n",
    "\n",
    "# Posição\n",
    "df.replace(\n",
    "    to_replace={\n",
    "        \"Colaborador Interno\":\"Interno\",\n",
    "        \"Consultor Terceirizado\":\"Terceiro\"\n",
    "    },\n",
    "    inplace=True\n",
    ")\n",
    "\n",
    "# Posição\n",
    "df.replace(\n",
    "    to_replace={\n",
    "        \"Desenvolvimento\":\"Dev\"\n",
    "    },\n",
    "    inplace=True\n",
    ")\n",
    "\n",
    "# to int\n",
    "df[\"avaliacao\"] = df[\"avaliacao\"].fillna(0).astype('int64')\n",
    "\n",
    "# to int 0 + 1\n",
    "df[\"bool_experiencia\"] = df[\"bool_experiencia\"].apply(lambda x: 1 if x == \"Sim\" else 0)\n",
    "df[\"bool_cert\"] = df[\"bool_cert\"].apply(lambda x: 1 if x == \"Sim\" else 0)\n",
    "\n",
    "bools = [col for col in df.columns if \"bool\" in col]\n",
    "for b in bools:\n",
    "    df[b] = df[b].fillna(0).astype('int64')"
   ]
  },
  {
   "cell_type": "markdown",
   "id": "9551d208-f306-49db-90dc-d19b457d6192",
   "metadata": {},
   "source": [
    "#### add calculated columns"
   ]
  },
  {
   "cell_type": "code",
   "execution_count": 8,
   "id": "bc1f3dd9-b608-4695-b163-d912f1d18556",
   "metadata": {},
   "outputs": [],
   "source": [
    "df[\"qt_alteracoes\"] = df[\"bool_alt_eqp\"] + df[\"bool_alt_bd\"] + df[\"bool_alt_sol\"] + df[\"bool_alt_custo\"] + df[\"bool_alt_tec\"]\n",
    "df[\"qt_falhas\"] = df[\"bool_falha_gov\"] + df[\"bool_falha_dev\"] + df[\"bool_falha_aus_info\"] + df[\"bool_falha_pln_custo\"] + df[\"bool_falha_gst_lid\"] + df[\"bool_falha_usu\"] "
   ]
  },
  {
   "cell_type": "markdown",
   "id": "798caf07-36c0-455c-8d90-72077f6b7c17",
   "metadata": {},
   "source": [
    "## filtering valid inputs"
   ]
  },
  {
   "cell_type": "markdown",
   "id": "b9d2d425-6598-4185-97ed-4d0f8cd97494",
   "metadata": {},
   "source": [
    "##### people who does not have previous contact with data lake projects "
   ]
  },
  {
   "cell_type": "code",
   "execution_count": 9,
   "id": "a4d708c0-6c86-42ac-aa5f-b3bdd4ba1c0a",
   "metadata": {},
   "outputs": [
    {
     "data": {
      "text/plain": [
       "trabalhou_com_dl\n",
       "Não     35\n",
       "Sim    106\n",
       "dtype: int64"
      ]
     },
     "execution_count": 9,
     "metadata": {},
     "output_type": "execute_result"
    }
   ],
   "source": [
    "df.groupby([\"trabalhou_com_dl\"]).size()"
   ]
  },
  {
   "cell_type": "code",
   "execution_count": 10,
   "id": "e9d31559-3920-4b6f-9a6a-2e4ae9714ebb",
   "metadata": {},
   "outputs": [],
   "source": [
    "df = df.query(\"trabalhou_com_dl == 'Sim'\")"
   ]
  },
  {
   "cell_type": "markdown",
   "id": "0edd1ebf-4022-45bc-9303-58f4c7c81cde",
   "metadata": {},
   "source": [
    "##### people who does not pay attention when answering"
   ]
  },
  {
   "cell_type": "code",
   "execution_count": 11,
   "id": "73d37688-cadd-4131-a053-9ad5a30d76c9",
   "metadata": {},
   "outputs": [
    {
     "data": {
      "text/plain": [
       "teste_atencao\n",
       "Variedade, Velocidade, Volume      2\n",
       "Variedade, Volume                  1\n",
       "Velocidade                       102\n",
       "Volume                             1\n",
       "dtype: int64"
      ]
     },
     "execution_count": 11,
     "metadata": {},
     "output_type": "execute_result"
    }
   ],
   "source": [
    "df.groupby([\"teste_atencao\"]).size()"
   ]
  },
  {
   "cell_type": "code",
   "execution_count": 12,
   "id": "f630a902-761a-4c0a-bfb8-2017b0f53a46",
   "metadata": {},
   "outputs": [],
   "source": [
    "df = df.query(\"teste_atencao == 'Velocidade'\")"
   ]
  },
  {
   "cell_type": "code",
   "execution_count": 13,
   "id": "eb8b76bb-e14f-479f-8de0-7bec6ad273f6",
   "metadata": {},
   "outputs": [
    {
     "name": "stdout",
     "output_type": "stream",
     "text": [
      "Size: 102\n"
     ]
    }
   ],
   "source": [
    "print(f\"Size: {len(df.index)}\")"
   ]
  },
  {
   "cell_type": "markdown",
   "id": "dea6f3d8-6856-4c3b-a072-c94a8568c345",
   "metadata": {},
   "source": [
    "##### creating new bool columns dropping unnecessary for analysis"
   ]
  },
  {
   "cell_type": "code",
   "execution_count": 14,
   "id": "a412055c-08e5-4fb7-9ccb-5cf6437121d0",
   "metadata": {},
   "outputs": [],
   "source": [
    "df[\"bool_terceiro\"] = df[\"atua_como\"].map(lambda x: 1 if x == \"Terceiro\" else 0)\n",
    "df[\"bool_dev\"] = df[\"posicao\"].map(lambda x: 1 if x == \"Dev\" else 0)"
   ]
  },
  {
   "cell_type": "code",
   "execution_count": 15,
   "id": "077c383f-a641-487e-b971-c16befef38a9",
   "metadata": {},
   "outputs": [],
   "source": [
    "df.drop(\n",
    "    [\n",
    "        \"teste_atencao\",\n",
    "        \"trabalhou_com_dl\",\n",
    "        \"atua_como\",\n",
    "        \"posicao\"\n",
    "    ], inplace=True, axis=1)"
   ]
  },
  {
   "cell_type": "markdown",
   "id": "2d4a212a-e5a5-4c14-b0af-1c4c859295b8",
   "metadata": {},
   "source": [
    "##### writing new dataset "
   ]
  },
  {
   "cell_type": "code",
   "execution_count": 16,
   "id": "53726196-8d9a-4b2f-ae74-6269bca6f302",
   "metadata": {},
   "outputs": [],
   "source": [
    "df.to_csv(\"dataset/refined.tsv\", sep=\"\\t\", index=False)"
   ]
  },
  {
   "cell_type": "code",
   "execution_count": 17,
   "id": "d3d40f44-156f-4541-94e6-cfacb2c0a5b7",
   "metadata": {},
   "outputs": [],
   "source": [
    "# Data preparation noteboook"
   ]
  },
  {
   "cell_type": "code",
   "execution_count": null,
   "id": "d2813d95-6b71-4367-abef-d54524b021d4",
   "metadata": {},
   "outputs": [],
   "source": []
  }
 ],
 "metadata": {
  "kernelspec": {
   "display_name": "Python 3 (ipykernel)",
   "language": "python",
   "name": "python3"
  },
  "language_info": {
   "codemirror_mode": {
    "name": "ipython",
    "version": 3
   },
   "file_extension": ".py",
   "mimetype": "text/x-python",
   "name": "python",
   "nbconvert_exporter": "python",
   "pygments_lexer": "ipython3",
   "version": "3.10.2"
  }
 },
 "nbformat": 4,
 "nbformat_minor": 5
}
